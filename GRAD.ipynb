{
  "nbformat": 4,
  "nbformat_minor": 0,
  "metadata": {
    "colab": {
      "provenance": []
    },
    "kernelspec": {
      "name": "python3",
      "display_name": "Python 3"
    },
    "language_info": {
      "name": "python"
    },
    "accelerator": "TPU"
  },
  "cells": [
    {
      "cell_type": "code",
      "metadata": {
        "id": "RgLJKuMqAV0H"
      },
      "source": [
        "# -*- coding: utf-8 -*-\n",
        "from sklearn.metrics import accuracy_score\n",
        "from tensorflow.keras.layers import BatchNormalization\n",
        "import tensorflow as tf\n",
        "import keras\n",
        "from keras.models import Sequential\n",
        "from keras.layers import Dense, Activation\n",
        "from keras.layers import LSTM\n",
        "from keras.layers import Dropout\n",
        "from keras.models import model_from_json\n",
        "\n",
        "import pandas as pd\n",
        "import numpy as np\n",
        "from sklearn import metrics\n",
        "from sklearn.preprocessing import MinMaxScaler\n",
        "#!pip install stats-to-pandas\n",
        "# from pandas.stats import moments\n",
        " \n",
        "import matplotlib.pyplot as plt\n",
        " \n",
        "import os\n",
        "import sys\n",
        "\n",
        "import math\n",
        "import pandas_datareader as web\n",
        " \n",
        "import datetime\n",
        " \n",
        "# Check if tensorflow is used\n",
        "if (keras.backend.backend() != 'tensorflow' and keras.backend.image_data_format() != 'channels_last' and keras.backend.image_dim_ordering() != 'tf'):\n",
        "    print('Install tensorflow, configure keras.json to include channels_last for image format and tf for image dimension ordering.')\n",
        "    print('Program will now exit.')\n",
        "    sys.exit(1)"
      ],
      "execution_count": null,
      "outputs": []
    },
    {
      "cell_type": "code",
      "metadata": {
        "id": "-VDpFJmmbhGT",
        "colab": {
          "base_uri": "https://localhost:8080/"
        },
        "outputId": "e85307b1-6948-4550-e84d-05a2214ce4a4"
      },
      "source": [
        "\n",
        "!pips"
      ],
      "execution_count": null,
      "outputs": [
        {
          "output_type": "stream",
          "text": [
            "/bin/bash: sklearn: command not found\n"
          ],
          "name": "stdout"
        }
      ]
    },
    {
      "cell_type": "code",
      "metadata": {
        "id": "8c_HTCJve93p",
        "colab": {
          "resources": {
            "http://localhost:8080/nbextensions/google.colab/files.js": {
              "data": "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",
              "ok": true,
              "headers": [
                [
                  "content-type",
                  "application/javascript"
                ]
              ],
              "status": 200,
              "status_text": ""
            }
          },
          "base_uri": "https://localhost:8080/",
          "height": 92
        },
        "outputId": "86d86080-f4e0-4c06-ecb4-49878e8a1b3d"
      },
      "source": [
        "from google.colab import files\n",
        "uploaded = files.upload()"
      ],
      "execution_count": null,
      "outputs": [
        {
          "output_type": "display_data",
          "data": {
            "text/html": [
              "\n",
              "     <input type=\"file\" id=\"files-86dfe239-43d0-4277-a9f9-766fd07d35b5\" name=\"files[]\" multiple disabled\n",
              "        style=\"border:none\" />\n",
              "     <output id=\"result-86dfe239-43d0-4277-a9f9-766fd07d35b5\">\n",
              "      Upload widget is only available when the cell has been executed in the\n",
              "      current browser session. Please rerun this cell to enable.\n",
              "      </output>\n",
              "      <script src=\"/nbextensions/google.colab/files.js\"></script> "
            ],
            "text/plain": [
              "<IPython.core.display.HTML object>"
            ]
          },
          "metadata": {
            "tags": []
          }
        },
        {
          "output_type": "stream",
          "text": [
            "Saving AAPL_2005_2021_7_7.csv to AAPL_2005_2021_7_7.csv\n"
          ],
          "name": "stdout"
        }
      ]
    },
    {
      "cell_type": "code",
      "metadata": {
        "id": "e5PhKA3KlE30"
      },
      "source": [],
      "execution_count": null,
      "outputs": []
    },
    {
      "cell_type": "code",
      "metadata": {
        "id": "uBSFMcfOAgU-"
      },
      "source": [
        "# # The tech stocks we'll use for this analysis\n",
        "# companies_stock_trigger = ['AAPL', 'GOOG', 'TSLA']\n",
        " \n",
        "# # Set up End and Start times for data grab\n",
        "# end = datetime.datetime.now()\n",
        "# start = datetime.date(2008,1,1)\n",
        " \n",
        "# # if u want to use start with month and day with one year back سنه قبل يعنى ومعاها يوم وسهر \n",
        "# #start = datetime(end.year - 1, end.month, end.day)\n",
        " \n",
        " \n",
        "# #For loop for grabing yahoo finance data and setting as a dataframe\n",
        "# for stock in companies_stock_trigger:   \n",
        "#     # Set DataFrame as the Stock Ticker\n",
        "#     globals()[stock] = web.DataReader(stock, 'yahoo', start, end)"
      ],
      "execution_count": null,
      "outputs": []
    },
    {
      "cell_type": "code",
      "metadata": {
        "id": "CcLRyLAkcXCb"
      },
      "source": [
        "# # # The tech stocks we'll use for this analysis\n",
        "# companies_stock_trigger = ['AAPL', 'GOOG', 'TSLA']\n",
        " \n",
        "# # Set up End and Start times for data grab\n",
        "# end = datetime.datetime.now()\n",
        "# start = datetime.date(2008,1,1)\n",
        " \n",
        "# # if u want to use start with month and day with one year back سنه قبل يعنى ومعاها يوم وسهر \n",
        "# #start = datetime(end.year - 1, end.month, end.day)\n",
        " \n",
        " \n",
        "# #For loop for grabing yahoo finance data and setting as a dataframe\n",
        "# for stock in companies_stock_trigger:   \n",
        "#     # Set DataFrame as the Stock Ticker\n",
        "#   globals()[stock] = web.DataReader(stock, 'yahoo', start, end)"
      ],
      "execution_count": null,
      "outputs": []
    },
    {
      "cell_type": "code",
      "metadata": {
        "id": "-YP-Xg_Wwoz5"
      },
      "source": [
        "#dataset.shape"
      ],
      "execution_count": null,
      "outputs": []
    },
    {
      "cell_type": "code",
      "metadata": {
        "id": "WvQ3uHdMBDF1",
        "colab": {
          "base_uri": "https://localhost:8080/",
          "height": 222
        },
        "outputId": "93e5c31a-35eb-4e6e-82a7-e29db244ca93"
      },
      "source": [
        "# Set the random seed\n",
        "seed = 123\n",
        "np.random.seed(seed)\n",
        " \n",
        "# Import the datafile to memory first\n",
        "TICKER = 'AAPL.NS'\n",
        " \n",
        "dataset = pd.read_csv('AAPL_2005_2021_7_7.csv') \n",
        "#dataset = pd.read_csv('./Dataset/{}.csv'.format(TICKER))\n",
        " \n",
        "# Sanity check. Missing values?\n",
        "print('Number of missing values: {}'.format(dataset.isnull().sum().sum()))\n",
        "dataset.head(5)"
      ],
      "execution_count": null,
      "outputs": [
        {
          "output_type": "stream",
          "text": [
            "Number of missing values: 0\n"
          ],
          "name": "stdout"
        },
        {
          "output_type": "execute_result",
          "data": {
            "text/html": [
              "<div>\n",
              "<style scoped>\n",
              "    .dataframe tbody tr th:only-of-type {\n",
              "        vertical-align: middle;\n",
              "    }\n",
              "\n",
              "    .dataframe tbody tr th {\n",
              "        vertical-align: top;\n",
              "    }\n",
              "\n",
              "    .dataframe thead th {\n",
              "        text-align: right;\n",
              "    }\n",
              "</style>\n",
              "<table border=\"1\" class=\"dataframe\">\n",
              "  <thead>\n",
              "    <tr style=\"text-align: right;\">\n",
              "      <th></th>\n",
              "      <th>Date</th>\n",
              "      <th>Open</th>\n",
              "      <th>High</th>\n",
              "      <th>Low</th>\n",
              "      <th>Close</th>\n",
              "      <th>Adj Close</th>\n",
              "      <th>Volume</th>\n",
              "    </tr>\n",
              "  </thead>\n",
              "  <tbody>\n",
              "    <tr>\n",
              "      <th>0</th>\n",
              "      <td>2005-01-03</td>\n",
              "      <td>1.156786</td>\n",
              "      <td>1.162679</td>\n",
              "      <td>1.117857</td>\n",
              "      <td>1.130179</td>\n",
              "      <td>0.971844</td>\n",
              "      <td>691992000</td>\n",
              "    </tr>\n",
              "    <tr>\n",
              "      <th>1</th>\n",
              "      <td>2005-01-04</td>\n",
              "      <td>1.139107</td>\n",
              "      <td>1.169107</td>\n",
              "      <td>1.124464</td>\n",
              "      <td>1.141786</td>\n",
              "      <td>0.981825</td>\n",
              "      <td>1096810400</td>\n",
              "    </tr>\n",
              "    <tr>\n",
              "      <th>2</th>\n",
              "      <td>2005-01-05</td>\n",
              "      <td>1.151071</td>\n",
              "      <td>1.165179</td>\n",
              "      <td>1.143750</td>\n",
              "      <td>1.151786</td>\n",
              "      <td>0.990424</td>\n",
              "      <td>680433600</td>\n",
              "    </tr>\n",
              "    <tr>\n",
              "      <th>3</th>\n",
              "      <td>2005-01-06</td>\n",
              "      <td>1.154821</td>\n",
              "      <td>1.159107</td>\n",
              "      <td>1.130893</td>\n",
              "      <td>1.152679</td>\n",
              "      <td>0.991192</td>\n",
              "      <td>705555200</td>\n",
              "    </tr>\n",
              "    <tr>\n",
              "      <th>4</th>\n",
              "      <td>2005-01-07</td>\n",
              "      <td>1.160714</td>\n",
              "      <td>1.243393</td>\n",
              "      <td>1.156250</td>\n",
              "      <td>1.236607</td>\n",
              "      <td>1.063362</td>\n",
              "      <td>2227450400</td>\n",
              "    </tr>\n",
              "  </tbody>\n",
              "</table>\n",
              "</div>"
            ],
            "text/plain": [
              "         Date      Open      High       Low     Close  Adj Close      Volume\n",
              "0  2005-01-03  1.156786  1.162679  1.117857  1.130179   0.971844   691992000\n",
              "1  2005-01-04  1.139107  1.169107  1.124464  1.141786   0.981825  1096810400\n",
              "2  2005-01-05  1.151071  1.165179  1.143750  1.151786   0.990424   680433600\n",
              "3  2005-01-06  1.154821  1.159107  1.130893  1.152679   0.991192   705555200\n",
              "4  2005-01-07  1.160714  1.243393  1.156250  1.236607   1.063362  2227450400"
            ]
          },
          "metadata": {
            "tags": []
          },
          "execution_count": 9
        }
      ]
    },
    {
      "cell_type": "code",
      "metadata": {
        "id": "zynkmfDF15Th",
        "colab": {
          "base_uri": "https://localhost:8080/"
        },
        "outputId": "6e27edb1-c5f5-4759-e35d-a8257ff8cbf6"
      },
      "source": [
        "dataset.shape"
      ],
      "execution_count": null,
      "outputs": [
        {
          "output_type": "execute_result",
          "data": {
            "text/plain": [
              "(4155, 7)"
            ]
          },
          "metadata": {
            "tags": []
          },
          "execution_count": 10
        }
      ]
    },
    {
      "cell_type": "code",
      "metadata": {
        "id": "G3N5RroSBH1u"
      },
      "source": [
        " \n",
        "# INDICATOR 1:\n",
        "# MACD\n",
        "def macd(df, n_fast=26, n_slow=12):\n",
        "    \"\"\"Calculate MACD, MACD Signal and MACD difference\n",
        "    \n",
        "    :param df: pandas.DataFrame\n",
        "    :param n_fast: \n",
        "    :param n_slow: \n",
        "    :return: pandas.DataFrame\n",
        "    \"\"\"\n",
        "    EMAfast = pd.Series(df['Close'].ewm(span=n_fast, min_periods=n_slow).mean())\n",
        "    EMAslow = pd.Series(df['Close'].ewm(span=n_slow, min_periods=n_slow).mean())\n",
        "    MACD = pd.Series(EMAfast - EMAslow, name='MACD_' + str(n_fast) + '_' + str(n_slow))\n",
        "    MACDsign = pd.Series(MACD.ewm(span=9, min_periods=9).mean(), name='MACDsign_' + str(n_fast) + '_' + str(n_slow))\n",
        "    MACDdiff = pd.Series(MACD - MACDsign, name='MACDdiff_' + str(n_fast) + '_' + str(n_slow))\n",
        "    df = df.join(MACD)\n",
        "    df = df.join(MACDsign)\n",
        "    df = df.join(MACDdiff)\n",
        "    return df\n",
        " \n",
        "dataset = macd(dataset)"
      ],
      "execution_count": null,
      "outputs": []
    },
    {
      "cell_type": "code",
      "metadata": {
        "id": "wCanyNdoBPFa",
        "colab": {
          "base_uri": "https://localhost:8080/"
        },
        "outputId": "6d8f5405-15d9-4002-831b-c253c2cf2bfa"
      },
      "source": [
        "dataset.isnull().sum()"
      ],
      "execution_count": null,
      "outputs": [
        {
          "output_type": "execute_result",
          "data": {
            "text/plain": [
              "Date               0\n",
              "Open               0\n",
              "High               0\n",
              "Low                0\n",
              "Close              0\n",
              "Adj Close          0\n",
              "Volume             0\n",
              "MACD_26_12        11\n",
              "MACDsign_26_12    19\n",
              "MACDdiff_26_12    19\n",
              "dtype: int64"
            ]
          },
          "metadata": {
            "tags": []
          },
          "execution_count": 12
        }
      ]
    },
    {
      "cell_type": "code",
      "metadata": {
        "id": "iFDXZ_MUBRI3",
        "colab": {
          "base_uri": "https://localhost:8080/"
        },
        "outputId": "1bd2c0a1-94e0-46e3-f32f-b7ace9aed6e0"
      },
      "source": [
        "# INDICATOR 2:\n",
        "# Bollinger Bands ( 30, 40, 50 Days)\n",
        "def bollinger_bands(df, n):\n",
        "    \"\"\"\n",
        "    \n",
        "    :param df: pandas.DataFrame\n",
        "    :param n: \n",
        "    :return: pandas.DataFrame\n",
        "    \"\"\"\n",
        "    print(df['Close'])\n",
        "    MA = pd.Series(df['Close'].rolling(window=n, min_periods=n).mean())\n",
        "    MSD = pd.Series(df['Close'].rolling(window=n, min_periods=n).std())\n",
        "    b1 = 4 * MSD / MA\n",
        "    B1 = pd.Series(b1, name='BollingerB_' + str(n))\n",
        "    df = df.join(B1)\n",
        "    b2 = (df['Close'] - MA + 2 * MSD) / (4 * MSD)\n",
        "    B2 = pd.Series(b2, name='Bollinger%b_' + str(n))\n",
        "    df = df.join(B2)\n",
        "    return df\n",
        " \n",
        "for i in np.array([30,40,50]):\n",
        "    dataset = bollinger_bands(dataset, i)"
      ],
      "execution_count": null,
      "outputs": [
        {
          "output_type": "stream",
          "text": [
            "0         1.130179\n",
            "1         1.141786\n",
            "2         1.151786\n",
            "3         1.152679\n",
            "4         1.236607\n",
            "           ...    \n",
            "4150    136.330002\n",
            "4151    136.960007\n",
            "4152    137.270004\n",
            "4153    139.960007\n",
            "4154    142.020004\n",
            "Name: Close, Length: 4155, dtype: float64\n",
            "0         1.130179\n",
            "1         1.141786\n",
            "2         1.151786\n",
            "3         1.152679\n",
            "4         1.236607\n",
            "           ...    \n",
            "4150    136.330002\n",
            "4151    136.960007\n",
            "4152    137.270004\n",
            "4153    139.960007\n",
            "4154    142.020004\n",
            "Name: Close, Length: 4155, dtype: float64\n",
            "0         1.130179\n",
            "1         1.141786\n",
            "2         1.151786\n",
            "3         1.152679\n",
            "4         1.236607\n",
            "           ...    \n",
            "4150    136.330002\n",
            "4151    136.960007\n",
            "4152    137.270004\n",
            "4153    139.960007\n",
            "4154    142.020004\n",
            "Name: Close, Length: 4155, dtype: float64\n"
          ],
          "name": "stdout"
        }
      ]
    },
    {
      "cell_type": "code",
      "metadata": {
        "id": "fmFkect8BVhc"
      },
      "source": [
        "# INDICATOR 3:\n",
        "# Stochastic Oscillator (d and k)\n",
        "def stochastic_oscillator_d(df, n):\n",
        "    \"\"\"Calculate stochastic oscillator %D for given data.\n",
        "    :param df: pandas.DataFrame\n",
        "    :param n: \n",
        "    :return: pandas.DataFrame\n",
        "    \"\"\"\n",
        "    SOk = pd.Series((df['Close'] - df['Low']) / (df['High'] - df['Low']), name='SO%k')\n",
        "    SOd = pd.Series(SOk.ewm(span=n, min_periods=n).mean(), name='SO%d_' + str(n))\n",
        "    df = df.join(SOd)\n",
        "    return df\n",
        " \n",
        "def stochastic_oscillator_k(df):\n",
        "    \"\"\"Calculate stochastic oscillator %K for given data.\n",
        "    \n",
        "    :param df: pandas.DataFrame\n",
        "    :return: pandas.DataFrame\n",
        "    \"\"\"\n",
        "    SOk = pd.Series((df['Close'] - df['Low']) / (df['High'] - df['Low']), name='SO%k')\n",
        "    df = df.join(SOk)\n",
        "    return df\n",
        " \n",
        "dataset = stochastic_oscillator_k(dataset)\n",
        " \n",
        "for i in np.array([5, 9, 14]):\n",
        "    dataset = stochastic_oscillator_d(dataset, i)"
      ],
      "execution_count": null,
      "outputs": []
    },
    {
      "cell_type": "code",
      "metadata": {
        "id": "F4PwEBsQwSIF"
      },
      "source": [],
      "execution_count": null,
      "outputs": []
    },
    {
      "cell_type": "code",
      "metadata": {
        "id": "Eh-Aftd-wSr3"
      },
      "source": [],
      "execution_count": null,
      "outputs": []
    },
    {
      "cell_type": "code",
      "metadata": {
        "id": "bKnv3bcgBW1d"
      },
      "source": [
        "# INDICATOR 4:\n",
        "# Chande Momentum Oscillator\n",
        "def chande_momentum_oscillator(df, n):\n",
        "    \"\"\"\n",
        "    Chande Momentum Oscillator.\n",
        "    Formula:\n",
        "    cmo = 100 * ((sum_up - sum_down) / (sum_up + sum_down))\n",
        "    \"\"\"\n",
        " \n",
        "    close_data = np.array(df['Close'])\n",
        " \n",
        "    moving_period_diffs = [[(close_data[idx+1-n:idx+1][i] -\n",
        "                 close_data[idx+1-n:idx+1][i-1]) for i in range(1, len(close_data[idx+1-n:idx+1]))] for idx in range(0, len(close_data))]\n",
        " \n",
        "    sum_up = []\n",
        "    sum_down = []\n",
        "    for period_diffs in moving_period_diffs:\n",
        "        ups = [val if val > 0 else 0 for val in period_diffs]\n",
        "        sum_up.append(sum(ups))\n",
        "        downs = [abs(val) if val < 0 else 0 for val in period_diffs]\n",
        "        sum_down.append(sum(downs))\n",
        " \n",
        "    sum_up = np.array(sum_up)\n",
        "    sum_down = np.array(sum_down)\n",
        " \n",
        "    cmo = pd.Series(100 * ((sum_up - sum_down) / (sum_up + sum_down)), name='Chande_'+str(n))\n",
        "    df = df.join(cmo)\n",
        "    return df"
      ],
      "execution_count": null,
      "outputs": []
    },
    {
      "cell_type": "code",
      "metadata": {
        "id": "bLmrRUPRBYUm"
      },
      "source": [
        "# INDICATOR 5:\n",
        "# Commodity Channel Index (30, 40, 50 Days)\n",
        "def commodity_channel_index(df, n):\n",
        "    \"\"\"Calculate Commodity Channel Index for given data.\n",
        "    :param df: pandas.DataFrame\n",
        "    :param n: \n",
        "    :return: pandas.DataFrame\n",
        "    \"\"\"\n",
        "    PP = (df['High'] + df['Low'] + df['Close']) / 3\n",
        "    CCI = pd.Series((PP - PP.rolling(window=n, min_periods=n).mean()) / PP.rolling(window=n, min_periods=n).std(), name='CCI_' + str(n))\n",
        "    df = df.join(CCI)\n",
        "    return df\n",
        "\t\n",
        "for i in np.array([30,40,50]):\n",
        "    dataset = commodity_channel_index(dataset, i)"
      ],
      "execution_count": null,
      "outputs": []
    },
    {
      "cell_type": "code",
      "metadata": {
        "id": "vv2xPY7pBZum"
      },
      "source": [
        "# INDICATOR 6:\n",
        "# Rate of Price Change (30, 40, 50 Days)\n",
        "def rate_of_price_change(df, n):\n",
        "    \"\"\"\n",
        "    \n",
        "    :param df: pandas.DataFrame\n",
        "    :param n: \n",
        "    :return: pandas.DataFrame\n",
        "    \"\"\"\n",
        "    M = df['Close'].diff(n - 1)\n",
        "    N = df['Close'].shift(n - 1)\n",
        "    ROC = pd.Series(M / N, name='ROPC_' + str(n))\n",
        "    df = df.join(ROC)\n",
        "    return df\n",
        "\t\n",
        "for i in np.array([30,40,50]):\n",
        "    dataset = rate_of_price_change(dataset, i)"
      ],
      "execution_count": null,
      "outputs": []
    },
    {
      "cell_type": "code",
      "metadata": {
        "id": "niF4tM9SdvtT"
      },
      "source": [],
      "execution_count": null,
      "outputs": []
    },
    {
      "cell_type": "markdown",
      "metadata": {
        "id": "40sL_DE-dx2p"
      },
      "source": []
    },
    {
      "cell_type": "code",
      "metadata": {
        "id": "pXithg5vBbYz"
      },
      "source": [
        "# INDICATOR 7:\n",
        "# Rate of Volume Change (30, 40, 50 Days)\n",
        "def rate_of_volume_change(df, n):\n",
        "    \"\"\"\n",
        "    \n",
        "    :param df: pandas.DataFrame\n",
        "    :param n: \n",
        "    :return: pandas.DataFrame\n",
        "    \"\"\"\n",
        "    M = df['Volume'].diff(n - 1)\n",
        "    N = df['Volume'].shift(n - 1)\n",
        "    ROC = pd.Series(M / (0.00001 + N), name='ROVC_' + str(n))\n",
        "    df = df.join(ROC)\n",
        "    return df\n",
        "\t\n",
        "for i in np.array([30,40,50]):\n",
        "    dataset = rate_of_volume_change(dataset, i)"
      ],
      "execution_count": null,
      "outputs": []
    },
    {
      "cell_type": "code",
      "metadata": {
        "id": "YMpUMmg5Bch9"
      },
      "source": [
        "# INDICATOR 8:\n",
        "# William %R (30, 40, 50 Days)\n",
        "def william_r(df, n):\n",
        "    \"\"\"Calculate William %R for given data.\n",
        "    \n",
        "    :param df: pandas.DataFrame\n",
        "    :return: pandas.DataFrame\n",
        "    \"\"\"\n",
        "    high=df['High'].rolling(window=n).max()\n",
        "    low=df['Low'].rolling(window=n).min()\n",
        "    \n",
        "    william = pd.Series((high - df['Close']) / (high - low), name='William%R_' + str(n)) * -100.\n",
        "    df = df.join(william)\n",
        "    return df\n",
        "\n",
        "for i in np.array([30,40,50]):\n",
        "    dataset = william_r(dataset, i)"
      ],
      "execution_count": null,
      "outputs": []
    },
    {
      "cell_type": "code",
      "metadata": {
        "id": "qBgDdL4EBdy-"
      },
      "source": [
        "# Generate difference and lag data\n",
        "# https://machinelearningmastery.com/tune-lstm-hyperparameters-keras-time-series-forecasting/\n",
        "\n",
        "def difference(df, lag=1):\n",
        "    return df.diff(lag)\n",
        "\n",
        "def lag(df, l=1):    \n",
        "    return df.shift(l)"
      ],
      "execution_count": null,
      "outputs": []
    },
    {
      "cell_type": "code",
      "metadata": {
        "id": "L3kH7fkiBfRT",
        "colab": {
          "base_uri": "https://localhost:8080/"
        },
        "outputId": "337a4fd2-0277-4ad0-880a-bc965b7d70c1"
      },
      "source": [
        "dataset.isnull().sum()"
      ],
      "execution_count": null,
      "outputs": [
        {
          "output_type": "execute_result",
          "data": {
            "text/plain": [
              "Date               0\n",
              "Open               0\n",
              "High               0\n",
              "Low                0\n",
              "Close              0\n",
              "Adj Close          0\n",
              "Volume             0\n",
              "MACD_26_12        11\n",
              "MACDsign_26_12    19\n",
              "MACDdiff_26_12    19\n",
              "BollingerB_30     29\n",
              "Bollinger%b_30    29\n",
              "BollingerB_40     39\n",
              "Bollinger%b_40    39\n",
              "BollingerB_50     49\n",
              "Bollinger%b_50    49\n",
              "SO%k               0\n",
              "SO%d_5             4\n",
              "SO%d_9             8\n",
              "SO%d_14           13\n",
              "CCI_30            29\n",
              "CCI_40            39\n",
              "CCI_50            49\n",
              "ROPC_30           29\n",
              "ROPC_40           39\n",
              "ROPC_50           49\n",
              "ROVC_30           29\n",
              "ROVC_40           39\n",
              "ROVC_50           49\n",
              "William%R_30      29\n",
              "William%R_40      39\n",
              "William%R_50      49\n",
              "dtype: int64"
            ]
          },
          "metadata": {
            "tags": []
          },
          "execution_count": 21
        }
      ]
    },
    {
      "cell_type": "code",
      "metadata": {
        "id": "iYTfSez-Z4Dl",
        "colab": {
          "base_uri": "https://localhost:8080/",
          "height": 327
        },
        "outputId": "6d2433d5-5a98-4160-8468-d87084c6932c"
      },
      "source": [
        "dataset.head(5)"
      ],
      "execution_count": null,
      "outputs": [
        {
          "output_type": "execute_result",
          "data": {
            "text/html": [
              "<div>\n",
              "<style scoped>\n",
              "    .dataframe tbody tr th:only-of-type {\n",
              "        vertical-align: middle;\n",
              "    }\n",
              "\n",
              "    .dataframe tbody tr th {\n",
              "        vertical-align: top;\n",
              "    }\n",
              "\n",
              "    .dataframe thead th {\n",
              "        text-align: right;\n",
              "    }\n",
              "</style>\n",
              "<table border=\"1\" class=\"dataframe\">\n",
              "  <thead>\n",
              "    <tr style=\"text-align: right;\">\n",
              "      <th></th>\n",
              "      <th>Date</th>\n",
              "      <th>Open</th>\n",
              "      <th>High</th>\n",
              "      <th>Low</th>\n",
              "      <th>Close</th>\n",
              "      <th>Adj Close</th>\n",
              "      <th>Volume</th>\n",
              "      <th>MACD_26_12</th>\n",
              "      <th>MACDsign_26_12</th>\n",
              "      <th>MACDdiff_26_12</th>\n",
              "      <th>BollingerB_30</th>\n",
              "      <th>Bollinger%b_30</th>\n",
              "      <th>BollingerB_40</th>\n",
              "      <th>Bollinger%b_40</th>\n",
              "      <th>BollingerB_50</th>\n",
              "      <th>Bollinger%b_50</th>\n",
              "      <th>SO%k</th>\n",
              "      <th>SO%d_5</th>\n",
              "      <th>SO%d_9</th>\n",
              "      <th>SO%d_14</th>\n",
              "      <th>CCI_30</th>\n",
              "      <th>CCI_40</th>\n",
              "      <th>CCI_50</th>\n",
              "      <th>ROPC_30</th>\n",
              "      <th>ROPC_40</th>\n",
              "      <th>ROPC_50</th>\n",
              "      <th>ROVC_30</th>\n",
              "      <th>ROVC_40</th>\n",
              "      <th>ROVC_50</th>\n",
              "      <th>William%R_30</th>\n",
              "      <th>William%R_40</th>\n",
              "      <th>William%R_50</th>\n",
              "    </tr>\n",
              "  </thead>\n",
              "  <tbody>\n",
              "    <tr>\n",
              "      <th>0</th>\n",
              "      <td>2005-01-03</td>\n",
              "      <td>1.156786</td>\n",
              "      <td>1.162679</td>\n",
              "      <td>1.117857</td>\n",
              "      <td>1.130179</td>\n",
              "      <td>0.971844</td>\n",
              "      <td>691992000</td>\n",
              "      <td>NaN</td>\n",
              "      <td>NaN</td>\n",
              "      <td>NaN</td>\n",
              "      <td>NaN</td>\n",
              "      <td>NaN</td>\n",
              "      <td>NaN</td>\n",
              "      <td>NaN</td>\n",
              "      <td>NaN</td>\n",
              "      <td>NaN</td>\n",
              "      <td>0.274910</td>\n",
              "      <td>NaN</td>\n",
              "      <td>NaN</td>\n",
              "      <td>NaN</td>\n",
              "      <td>NaN</td>\n",
              "      <td>NaN</td>\n",
              "      <td>NaN</td>\n",
              "      <td>NaN</td>\n",
              "      <td>NaN</td>\n",
              "      <td>NaN</td>\n",
              "      <td>NaN</td>\n",
              "      <td>NaN</td>\n",
              "      <td>NaN</td>\n",
              "      <td>NaN</td>\n",
              "      <td>NaN</td>\n",
              "      <td>NaN</td>\n",
              "    </tr>\n",
              "    <tr>\n",
              "      <th>1</th>\n",
              "      <td>2005-01-04</td>\n",
              "      <td>1.139107</td>\n",
              "      <td>1.169107</td>\n",
              "      <td>1.124464</td>\n",
              "      <td>1.141786</td>\n",
              "      <td>0.981825</td>\n",
              "      <td>1096810400</td>\n",
              "      <td>NaN</td>\n",
              "      <td>NaN</td>\n",
              "      <td>NaN</td>\n",
              "      <td>NaN</td>\n",
              "      <td>NaN</td>\n",
              "      <td>NaN</td>\n",
              "      <td>NaN</td>\n",
              "      <td>NaN</td>\n",
              "      <td>NaN</td>\n",
              "      <td>0.388012</td>\n",
              "      <td>NaN</td>\n",
              "      <td>NaN</td>\n",
              "      <td>NaN</td>\n",
              "      <td>NaN</td>\n",
              "      <td>NaN</td>\n",
              "      <td>NaN</td>\n",
              "      <td>NaN</td>\n",
              "      <td>NaN</td>\n",
              "      <td>NaN</td>\n",
              "      <td>NaN</td>\n",
              "      <td>NaN</td>\n",
              "      <td>NaN</td>\n",
              "      <td>NaN</td>\n",
              "      <td>NaN</td>\n",
              "      <td>NaN</td>\n",
              "    </tr>\n",
              "    <tr>\n",
              "      <th>2</th>\n",
              "      <td>2005-01-05</td>\n",
              "      <td>1.151071</td>\n",
              "      <td>1.165179</td>\n",
              "      <td>1.143750</td>\n",
              "      <td>1.151786</td>\n",
              "      <td>0.990424</td>\n",
              "      <td>680433600</td>\n",
              "      <td>NaN</td>\n",
              "      <td>NaN</td>\n",
              "      <td>NaN</td>\n",
              "      <td>NaN</td>\n",
              "      <td>NaN</td>\n",
              "      <td>NaN</td>\n",
              "      <td>NaN</td>\n",
              "      <td>NaN</td>\n",
              "      <td>NaN</td>\n",
              "      <td>0.375006</td>\n",
              "      <td>NaN</td>\n",
              "      <td>NaN</td>\n",
              "      <td>NaN</td>\n",
              "      <td>NaN</td>\n",
              "      <td>NaN</td>\n",
              "      <td>NaN</td>\n",
              "      <td>NaN</td>\n",
              "      <td>NaN</td>\n",
              "      <td>NaN</td>\n",
              "      <td>NaN</td>\n",
              "      <td>NaN</td>\n",
              "      <td>NaN</td>\n",
              "      <td>NaN</td>\n",
              "      <td>NaN</td>\n",
              "      <td>NaN</td>\n",
              "    </tr>\n",
              "    <tr>\n",
              "      <th>3</th>\n",
              "      <td>2005-01-06</td>\n",
              "      <td>1.154821</td>\n",
              "      <td>1.159107</td>\n",
              "      <td>1.130893</td>\n",
              "      <td>1.152679</td>\n",
              "      <td>0.991192</td>\n",
              "      <td>705555200</td>\n",
              "      <td>NaN</td>\n",
              "      <td>NaN</td>\n",
              "      <td>NaN</td>\n",
              "      <td>NaN</td>\n",
              "      <td>NaN</td>\n",
              "      <td>NaN</td>\n",
              "      <td>NaN</td>\n",
              "      <td>NaN</td>\n",
              "      <td>NaN</td>\n",
              "      <td>0.772170</td>\n",
              "      <td>NaN</td>\n",
              "      <td>NaN</td>\n",
              "      <td>NaN</td>\n",
              "      <td>NaN</td>\n",
              "      <td>NaN</td>\n",
              "      <td>NaN</td>\n",
              "      <td>NaN</td>\n",
              "      <td>NaN</td>\n",
              "      <td>NaN</td>\n",
              "      <td>NaN</td>\n",
              "      <td>NaN</td>\n",
              "      <td>NaN</td>\n",
              "      <td>NaN</td>\n",
              "      <td>NaN</td>\n",
              "      <td>NaN</td>\n",
              "    </tr>\n",
              "    <tr>\n",
              "      <th>4</th>\n",
              "      <td>2005-01-07</td>\n",
              "      <td>1.160714</td>\n",
              "      <td>1.243393</td>\n",
              "      <td>1.156250</td>\n",
              "      <td>1.236607</td>\n",
              "      <td>1.063362</td>\n",
              "      <td>2227450400</td>\n",
              "      <td>NaN</td>\n",
              "      <td>NaN</td>\n",
              "      <td>NaN</td>\n",
              "      <td>NaN</td>\n",
              "      <td>NaN</td>\n",
              "      <td>NaN</td>\n",
              "      <td>NaN</td>\n",
              "      <td>NaN</td>\n",
              "      <td>NaN</td>\n",
              "      <td>0.922128</td>\n",
              "      <td>0.680571</td>\n",
              "      <td>NaN</td>\n",
              "      <td>NaN</td>\n",
              "      <td>NaN</td>\n",
              "      <td>NaN</td>\n",
              "      <td>NaN</td>\n",
              "      <td>NaN</td>\n",
              "      <td>NaN</td>\n",
              "      <td>NaN</td>\n",
              "      <td>NaN</td>\n",
              "      <td>NaN</td>\n",
              "      <td>NaN</td>\n",
              "      <td>NaN</td>\n",
              "      <td>NaN</td>\n",
              "      <td>NaN</td>\n",
              "    </tr>\n",
              "  </tbody>\n",
              "</table>\n",
              "</div>"
            ],
            "text/plain": [
              "         Date      Open      High  ...  William%R_30  William%R_40  William%R_50\n",
              "0  2005-01-03  1.156786  1.162679  ...           NaN           NaN           NaN\n",
              "1  2005-01-04  1.139107  1.169107  ...           NaN           NaN           NaN\n",
              "2  2005-01-05  1.151071  1.165179  ...           NaN           NaN           NaN\n",
              "3  2005-01-06  1.154821  1.159107  ...           NaN           NaN           NaN\n",
              "4  2005-01-07  1.160714  1.243393  ...           NaN           NaN           NaN\n",
              "\n",
              "[5 rows x 32 columns]"
            ]
          },
          "metadata": {
            "tags": []
          },
          "execution_count": 22
        }
      ]
    },
    {
      "cell_type": "code",
      "metadata": {
        "id": "v-YX9PZfauro"
      },
      "source": [],
      "execution_count": null,
      "outputs": []
    },
    {
      "cell_type": "code",
      "metadata": {
        "id": "3Dkh_g_LauZh"
      },
      "source": [
        "data = dataset"
      ],
      "execution_count": null,
      "outputs": []
    },
    {
      "cell_type": "code",
      "metadata": {
        "id": "PxB8XMYkBht1"
      },
      "source": [
        " #data.drop(columns = , inplace=True)"
      ],
      "execution_count": null,
      "outputs": []
    },
    {
      "cell_type": "code",
      "metadata": {
        "id": "xbpaWB7Zbngb",
        "colab": {
          "base_uri": "https://localhost:8080/"
        },
        "outputId": "0681f1e5-8c37-4bc3-ef0b-756d7d19531f"
      },
      "source": [
        "data.isnull().sum()"
      ],
      "execution_count": null,
      "outputs": [
        {
          "output_type": "execute_result",
          "data": {
            "text/plain": [
              "Date               0\n",
              "Open               0\n",
              "High               0\n",
              "Low                0\n",
              "Close              0\n",
              "Adj Close          0\n",
              "Volume             0\n",
              "MACD_26_12        11\n",
              "MACDsign_26_12    19\n",
              "MACDdiff_26_12    19\n",
              "BollingerB_30     29\n",
              "Bollinger%b_30    29\n",
              "BollingerB_40     39\n",
              "Bollinger%b_40    39\n",
              "BollingerB_50     49\n",
              "Bollinger%b_50    49\n",
              "SO%k               0\n",
              "SO%d_5             4\n",
              "SO%d_9             8\n",
              "SO%d_14           13\n",
              "CCI_30            29\n",
              "CCI_40            39\n",
              "CCI_50            49\n",
              "ROPC_30           29\n",
              "ROPC_40           39\n",
              "ROPC_50           49\n",
              "ROVC_30           29\n",
              "ROVC_40           39\n",
              "ROVC_50           49\n",
              "William%R_30      29\n",
              "William%R_40      39\n",
              "William%R_50      49\n",
              "dtype: int64"
            ]
          },
          "metadata": {
            "tags": []
          },
          "execution_count": 25
        }
      ]
    },
    {
      "cell_type": "code",
      "metadata": {
        "id": "1Y2hkSQEGTo2",
        "colab": {
          "base_uri": "https://localhost:8080/",
          "height": 317
        },
        "outputId": "20f4d3b0-c964-459f-f581-8c3ea4020551"
      },
      "source": [
        "dataset.describe()"
      ],
      "execution_count": null,
      "outputs": [
        {
          "output_type": "execute_result",
          "data": {
            "text/html": [
              "<div>\n",
              "<style scoped>\n",
              "    .dataframe tbody tr th:only-of-type {\n",
              "        vertical-align: middle;\n",
              "    }\n",
              "\n",
              "    .dataframe tbody tr th {\n",
              "        vertical-align: top;\n",
              "    }\n",
              "\n",
              "    .dataframe thead th {\n",
              "        text-align: right;\n",
              "    }\n",
              "</style>\n",
              "<table border=\"1\" class=\"dataframe\">\n",
              "  <thead>\n",
              "    <tr style=\"text-align: right;\">\n",
              "      <th></th>\n",
              "      <th>Open</th>\n",
              "      <th>High</th>\n",
              "      <th>Low</th>\n",
              "      <th>Close</th>\n",
              "      <th>Adj Close</th>\n",
              "      <th>Volume</th>\n",
              "      <th>MACD_26_12</th>\n",
              "      <th>MACDsign_26_12</th>\n",
              "      <th>MACDdiff_26_12</th>\n",
              "      <th>BollingerB_30</th>\n",
              "      <th>Bollinger%b_30</th>\n",
              "      <th>BollingerB_40</th>\n",
              "      <th>Bollinger%b_40</th>\n",
              "      <th>BollingerB_50</th>\n",
              "      <th>Bollinger%b_50</th>\n",
              "      <th>SO%k</th>\n",
              "      <th>SO%d_5</th>\n",
              "      <th>SO%d_9</th>\n",
              "      <th>SO%d_14</th>\n",
              "      <th>CCI_30</th>\n",
              "      <th>CCI_40</th>\n",
              "      <th>CCI_50</th>\n",
              "      <th>ROPC_30</th>\n",
              "      <th>ROPC_40</th>\n",
              "      <th>ROPC_50</th>\n",
              "      <th>ROVC_30</th>\n",
              "      <th>ROVC_40</th>\n",
              "      <th>ROVC_50</th>\n",
              "      <th>William%R_30</th>\n",
              "      <th>William%R_40</th>\n",
              "      <th>William%R_50</th>\n",
              "    </tr>\n",
              "  </thead>\n",
              "  <tbody>\n",
              "    <tr>\n",
              "      <th>count</th>\n",
              "      <td>4155.000000</td>\n",
              "      <td>4155.000000</td>\n",
              "      <td>4155.000000</td>\n",
              "      <td>4155.000000</td>\n",
              "      <td>4155.000000</td>\n",
              "      <td>4.155000e+03</td>\n",
              "      <td>4144.000000</td>\n",
              "      <td>4136.000000</td>\n",
              "      <td>4136.000000</td>\n",
              "      <td>4126.000000</td>\n",
              "      <td>4126.000000</td>\n",
              "      <td>4116.000000</td>\n",
              "      <td>4116.000000</td>\n",
              "      <td>4106.000000</td>\n",
              "      <td>4106.000000</td>\n",
              "      <td>4155.000000</td>\n",
              "      <td>4151.000000</td>\n",
              "      <td>4147.000000</td>\n",
              "      <td>4142.000000</td>\n",
              "      <td>4126.000000</td>\n",
              "      <td>4116.000000</td>\n",
              "      <td>4106.000000</td>\n",
              "      <td>4126.000000</td>\n",
              "      <td>4116.000000</td>\n",
              "      <td>4106.000000</td>\n",
              "      <td>4126.000000</td>\n",
              "      <td>4116.000000</td>\n",
              "      <td>4106.000000</td>\n",
              "      <td>4126.000000</td>\n",
              "      <td>4116.000000</td>\n",
              "      <td>4106.000000</td>\n",
              "    </tr>\n",
              "    <tr>\n",
              "      <th>mean</th>\n",
              "      <td>27.610228</td>\n",
              "      <td>27.901347</td>\n",
              "      <td>27.311970</td>\n",
              "      <td>27.617539</td>\n",
              "      <td>26.276942</td>\n",
              "      <td>4.525014e+08</td>\n",
              "      <td>-0.218043</td>\n",
              "      <td>-0.216360</td>\n",
              "      <td>-0.002077</td>\n",
              "      <td>0.169984</td>\n",
              "      <td>0.607113</td>\n",
              "      <td>0.198689</td>\n",
              "      <td>0.620966</td>\n",
              "      <td>0.224889</td>\n",
              "      <td>0.634305</td>\n",
              "      <td>0.522915</td>\n",
              "      <td>0.522868</td>\n",
              "      <td>0.522745</td>\n",
              "      <td>0.522751</td>\n",
              "      <td>0.434153</td>\n",
              "      <td>0.489049</td>\n",
              "      <td>0.542922</td>\n",
              "      <td>0.039677</td>\n",
              "      <td>0.053505</td>\n",
              "      <td>0.067819</td>\n",
              "      <td>0.123632</td>\n",
              "      <td>0.130918</td>\n",
              "      <td>0.141889</td>\n",
              "      <td>-37.255897</td>\n",
              "      <td>-36.085365</td>\n",
              "      <td>-35.116149</td>\n",
              "    </tr>\n",
              "    <tr>\n",
              "      <th>std</th>\n",
              "      <td>30.273206</td>\n",
              "      <td>30.624420</td>\n",
              "      <td>29.906457</td>\n",
              "      <td>30.280108</td>\n",
              "      <td>30.367822</td>\n",
              "      <td>4.052630e+08</td>\n",
              "      <td>0.899641</td>\n",
              "      <td>0.849360</td>\n",
              "      <td>0.261978</td>\n",
              "      <td>0.089880</td>\n",
              "      <td>0.329265</td>\n",
              "      <td>0.104710</td>\n",
              "      <td>0.329646</td>\n",
              "      <td>0.118872</td>\n",
              "      <td>0.329056</td>\n",
              "      <td>0.311943</td>\n",
              "      <td>0.137320</td>\n",
              "      <td>0.104325</td>\n",
              "      <td>0.085662</td>\n",
              "      <td>1.328448</td>\n",
              "      <td>1.326674</td>\n",
              "      <td>1.321930</td>\n",
              "      <td>0.115231</td>\n",
              "      <td>0.136924</td>\n",
              "      <td>0.156977</td>\n",
              "      <td>0.664751</td>\n",
              "      <td>0.691314</td>\n",
              "      <td>0.740374</td>\n",
              "      <td>30.186454</td>\n",
              "      <td>29.754205</td>\n",
              "      <td>29.474501</td>\n",
              "    </tr>\n",
              "    <tr>\n",
              "      <th>min</th>\n",
              "      <td>1.139107</td>\n",
              "      <td>1.159107</td>\n",
              "      <td>1.117857</td>\n",
              "      <td>1.130179</td>\n",
              "      <td>0.971844</td>\n",
              "      <td>4.544800e+07</td>\n",
              "      <td>-7.511570</td>\n",
              "      <td>-6.895524</td>\n",
              "      <td>-1.568174</td>\n",
              "      <td>0.041025</td>\n",
              "      <td>-0.387363</td>\n",
              "      <td>0.049411</td>\n",
              "      <td>-0.437193</td>\n",
              "      <td>0.055050</td>\n",
              "      <td>-0.443130</td>\n",
              "      <td>0.000000</td>\n",
              "      <td>0.103544</td>\n",
              "      <td>0.197780</td>\n",
              "      <td>0.274418</td>\n",
              "      <td>-3.528011</td>\n",
              "      <td>-3.765525</td>\n",
              "      <td>-3.699455</td>\n",
              "      <td>-0.489237</td>\n",
              "      <td>-0.505130</td>\n",
              "      <td>-0.482318</td>\n",
              "      <td>-0.856165</td>\n",
              "      <td>-0.870217</td>\n",
              "      <td>-0.912975</td>\n",
              "      <td>-100.000000</td>\n",
              "      <td>-100.000000</td>\n",
              "      <td>-100.000000</td>\n",
              "    </tr>\n",
              "    <tr>\n",
              "      <th>25%</th>\n",
              "      <td>5.992679</td>\n",
              "      <td>6.074643</td>\n",
              "      <td>5.891786</td>\n",
              "      <td>6.006072</td>\n",
              "      <td>5.164638</td>\n",
              "      <td>1.414856e+08</td>\n",
              "      <td>-0.362841</td>\n",
              "      <td>-0.340667</td>\n",
              "      <td>-0.061418</td>\n",
              "      <td>0.108141</td>\n",
              "      <td>0.346800</td>\n",
              "      <td>0.126976</td>\n",
              "      <td>0.373015</td>\n",
              "      <td>0.141878</td>\n",
              "      <td>0.386897</td>\n",
              "      <td>0.241170</td>\n",
              "      <td>0.424017</td>\n",
              "      <td>0.450722</td>\n",
              "      <td>0.462355</td>\n",
              "      <td>-0.617914</td>\n",
              "      <td>-0.511864</td>\n",
              "      <td>-0.441479</td>\n",
              "      <td>-0.029027</td>\n",
              "      <td>-0.025127</td>\n",
              "      <td>-0.021633</td>\n",
              "      <td>-0.299078</td>\n",
              "      <td>-0.311742</td>\n",
              "      <td>-0.329640</td>\n",
              "      <td>-62.113772</td>\n",
              "      <td>-59.534725</td>\n",
              "      <td>-57.345180</td>\n",
              "    </tr>\n",
              "    <tr>\n",
              "      <th>50%</th>\n",
              "      <td>18.967501</td>\n",
              "      <td>19.121786</td>\n",
              "      <td>18.780357</td>\n",
              "      <td>18.969643</td>\n",
              "      <td>16.772892</td>\n",
              "      <td>3.341828e+08</td>\n",
              "      <td>-0.087775</td>\n",
              "      <td>-0.093306</td>\n",
              "      <td>-0.003585</td>\n",
              "      <td>0.150472</td>\n",
              "      <td>0.663537</td>\n",
              "      <td>0.179400</td>\n",
              "      <td>0.678881</td>\n",
              "      <td>0.204656</td>\n",
              "      <td>0.695294</td>\n",
              "      <td>0.523885</td>\n",
              "      <td>0.525749</td>\n",
              "      <td>0.524038</td>\n",
              "      <td>0.524281</td>\n",
              "      <td>0.663222</td>\n",
              "      <td>0.742002</td>\n",
              "      <td>0.795324</td>\n",
              "      <td>0.042913</td>\n",
              "      <td>0.056503</td>\n",
              "      <td>0.066870</td>\n",
              "      <td>-0.034104</td>\n",
              "      <td>-0.040650</td>\n",
              "      <td>-0.037031</td>\n",
              "      <td>-29.919257</td>\n",
              "      <td>-28.344294</td>\n",
              "      <td>-27.456091</td>\n",
              "    </tr>\n",
              "    <tr>\n",
              "      <th>75%</th>\n",
              "      <td>36.236250</td>\n",
              "      <td>36.533751</td>\n",
              "      <td>35.956249</td>\n",
              "      <td>36.368750</td>\n",
              "      <td>34.625763</td>\n",
              "      <td>6.361880e+08</td>\n",
              "      <td>0.053028</td>\n",
              "      <td>0.046731</td>\n",
              "      <td>0.050474</td>\n",
              "      <td>0.210733</td>\n",
              "      <td>0.869889</td>\n",
              "      <td>0.242366</td>\n",
              "      <td>0.885434</td>\n",
              "      <td>0.278446</td>\n",
              "      <td>0.898855</td>\n",
              "      <td>0.813849</td>\n",
              "      <td>0.623515</td>\n",
              "      <td>0.597131</td>\n",
              "      <td>0.583215</td>\n",
              "      <td>1.500947</td>\n",
              "      <td>1.556661</td>\n",
              "      <td>1.606050</td>\n",
              "      <td>0.111897</td>\n",
              "      <td>0.140197</td>\n",
              "      <td>0.162645</td>\n",
              "      <td>0.351877</td>\n",
              "      <td>0.363027</td>\n",
              "      <td>0.367964</td>\n",
              "      <td>-9.990640</td>\n",
              "      <td>-9.304722</td>\n",
              "      <td>-8.913850</td>\n",
              "    </tr>\n",
              "    <tr>\n",
              "      <th>max</th>\n",
              "      <td>143.600006</td>\n",
              "      <td>145.089996</td>\n",
              "      <td>141.369995</td>\n",
              "      <td>143.160004</td>\n",
              "      <td>142.704010</td>\n",
              "      <td>3.372970e+09</td>\n",
              "      <td>4.665018</td>\n",
              "      <td>3.805254</td>\n",
              "      <td>2.510773</td>\n",
              "      <td>0.796419</td>\n",
              "      <td>1.397334</td>\n",
              "      <td>0.887836</td>\n",
              "      <td>1.527992</td>\n",
              "      <td>0.957658</td>\n",
              "      <td>1.608279</td>\n",
              "      <td>1.000000</td>\n",
              "      <td>0.859800</td>\n",
              "      <td>0.803921</td>\n",
              "      <td>0.765058</td>\n",
              "      <td>3.710820</td>\n",
              "      <td>3.981696</td>\n",
              "      <td>4.213628</td>\n",
              "      <td>0.449886</td>\n",
              "      <td>0.589099</td>\n",
              "      <td>0.568924</td>\n",
              "      <td>5.694239</td>\n",
              "      <td>6.898265</td>\n",
              "      <td>9.442325</td>\n",
              "      <td>-0.000000</td>\n",
              "      <td>-0.000000</td>\n",
              "      <td>-0.000000</td>\n",
              "    </tr>\n",
              "  </tbody>\n",
              "</table>\n",
              "</div>"
            ],
            "text/plain": [
              "              Open         High  ...  William%R_40  William%R_50\n",
              "count  4155.000000  4155.000000  ...   4116.000000   4106.000000\n",
              "mean     27.610228    27.901347  ...    -36.085365    -35.116149\n",
              "std      30.273206    30.624420  ...     29.754205     29.474501\n",
              "min       1.139107     1.159107  ...   -100.000000   -100.000000\n",
              "25%       5.992679     6.074643  ...    -59.534725    -57.345180\n",
              "50%      18.967501    19.121786  ...    -28.344294    -27.456091\n",
              "75%      36.236250    36.533751  ...     -9.304722     -8.913850\n",
              "max     143.600006   145.089996  ...     -0.000000     -0.000000\n",
              "\n",
              "[8 rows x 31 columns]"
            ]
          },
          "metadata": {
            "tags": []
          },
          "execution_count": 26
        }
      ]
    },
    {
      "cell_type": "code",
      "metadata": {
        "id": "NWUkM-E8xlLZ"
      },
      "source": [
        " # Keep a copy of the original file in case\n",
        "# 1231 is 2018-04-04 for whole dataset\n",
        "dataframe = dataset\n",
        "# dataset = dataset.drop(['Date'], axis=1)\n",
        " \n",
        "# Generate time differences/leads as needed.\n",
        "# Now more features for time series prediction"
      ],
      "execution_count": null,
      "outputs": []
    },
    {
      "cell_type": "code",
      "metadata": {
        "id": "rIdPIbo2FTKl"
      },
      "source": [
        "for i in [26]:\n",
        "    df = pd.Series(difference(dataset['Close'], -i).values.flatten(), name='dClose_t+' + str(i))\n",
        "    dataset1 = dataset.join(df)"
      ],
      "execution_count": null,
      "outputs": []
    },
    {
      "cell_type": "code",
      "metadata": {
        "id": "hHbMyt9MyRDs"
      },
      "source": [
        "for i in [26]:\n",
        "    df = pd.Series(lag(dataset['Close'], -i).values.flatten(), name='Close_t+' + str(i))\n",
        "    dataset1 = dataset1.join(df)"
      ],
      "execution_count": null,
      "outputs": []
    },
    {
      "cell_type": "code",
      "metadata": {
        "id": "_UnVBofwF-Sq",
        "colab": {
          "base_uri": "https://localhost:8080/",
          "height": 610
        },
        "outputId": "04af5b5f-5498-49c4-8930-f029a8f85cfb"
      },
      "source": [
        "dataset1"
      ],
      "execution_count": null,
      "outputs": [
        {
          "output_type": "execute_result",
          "data": {
            "text/html": [
              "<div>\n",
              "<style scoped>\n",
              "    .dataframe tbody tr th:only-of-type {\n",
              "        vertical-align: middle;\n",
              "    }\n",
              "\n",
              "    .dataframe tbody tr th {\n",
              "        vertical-align: top;\n",
              "    }\n",
              "\n",
              "    .dataframe thead th {\n",
              "        text-align: right;\n",
              "    }\n",
              "</style>\n",
              "<table border=\"1\" class=\"dataframe\">\n",
              "  <thead>\n",
              "    <tr style=\"text-align: right;\">\n",
              "      <th></th>\n",
              "      <th>Date</th>\n",
              "      <th>Open</th>\n",
              "      <th>High</th>\n",
              "      <th>Low</th>\n",
              "      <th>Close</th>\n",
              "      <th>Adj Close</th>\n",
              "      <th>Volume</th>\n",
              "      <th>MACD_26_12</th>\n",
              "      <th>MACDsign_26_12</th>\n",
              "      <th>MACDdiff_26_12</th>\n",
              "      <th>BollingerB_30</th>\n",
              "      <th>Bollinger%b_30</th>\n",
              "      <th>BollingerB_40</th>\n",
              "      <th>Bollinger%b_40</th>\n",
              "      <th>BollingerB_50</th>\n",
              "      <th>Bollinger%b_50</th>\n",
              "      <th>SO%k</th>\n",
              "      <th>SO%d_5</th>\n",
              "      <th>SO%d_9</th>\n",
              "      <th>SO%d_14</th>\n",
              "      <th>CCI_30</th>\n",
              "      <th>CCI_40</th>\n",
              "      <th>CCI_50</th>\n",
              "      <th>ROPC_30</th>\n",
              "      <th>ROPC_40</th>\n",
              "      <th>ROPC_50</th>\n",
              "      <th>ROVC_30</th>\n",
              "      <th>ROVC_40</th>\n",
              "      <th>ROVC_50</th>\n",
              "      <th>William%R_30</th>\n",
              "      <th>William%R_40</th>\n",
              "      <th>William%R_50</th>\n",
              "      <th>dClose_t+26</th>\n",
              "      <th>Close_t+26</th>\n",
              "    </tr>\n",
              "  </thead>\n",
              "  <tbody>\n",
              "    <tr>\n",
              "      <th>0</th>\n",
              "      <td>2005-01-03</td>\n",
              "      <td>1.156786</td>\n",
              "      <td>1.162679</td>\n",
              "      <td>1.117857</td>\n",
              "      <td>1.130179</td>\n",
              "      <td>0.971844</td>\n",
              "      <td>691992000</td>\n",
              "      <td>NaN</td>\n",
              "      <td>NaN</td>\n",
              "      <td>NaN</td>\n",
              "      <td>NaN</td>\n",
              "      <td>NaN</td>\n",
              "      <td>NaN</td>\n",
              "      <td>NaN</td>\n",
              "      <td>NaN</td>\n",
              "      <td>NaN</td>\n",
              "      <td>0.274910</td>\n",
              "      <td>NaN</td>\n",
              "      <td>NaN</td>\n",
              "      <td>NaN</td>\n",
              "      <td>NaN</td>\n",
              "      <td>NaN</td>\n",
              "      <td>NaN</td>\n",
              "      <td>NaN</td>\n",
              "      <td>NaN</td>\n",
              "      <td>NaN</td>\n",
              "      <td>NaN</td>\n",
              "      <td>NaN</td>\n",
              "      <td>NaN</td>\n",
              "      <td>NaN</td>\n",
              "      <td>NaN</td>\n",
              "      <td>NaN</td>\n",
              "      <td>-0.275892</td>\n",
              "      <td>1.406071</td>\n",
              "    </tr>\n",
              "    <tr>\n",
              "      <th>1</th>\n",
              "      <td>2005-01-04</td>\n",
              "      <td>1.139107</td>\n",
              "      <td>1.169107</td>\n",
              "      <td>1.124464</td>\n",
              "      <td>1.141786</td>\n",
              "      <td>0.981825</td>\n",
              "      <td>1096810400</td>\n",
              "      <td>NaN</td>\n",
              "      <td>NaN</td>\n",
              "      <td>NaN</td>\n",
              "      <td>NaN</td>\n",
              "      <td>NaN</td>\n",
              "      <td>NaN</td>\n",
              "      <td>NaN</td>\n",
              "      <td>NaN</td>\n",
              "      <td>NaN</td>\n",
              "      <td>0.388012</td>\n",
              "      <td>NaN</td>\n",
              "      <td>NaN</td>\n",
              "      <td>NaN</td>\n",
              "      <td>NaN</td>\n",
              "      <td>NaN</td>\n",
              "      <td>NaN</td>\n",
              "      <td>NaN</td>\n",
              "      <td>NaN</td>\n",
              "      <td>NaN</td>\n",
              "      <td>NaN</td>\n",
              "      <td>NaN</td>\n",
              "      <td>NaN</td>\n",
              "      <td>NaN</td>\n",
              "      <td>NaN</td>\n",
              "      <td>NaN</td>\n",
              "      <td>-0.257500</td>\n",
              "      <td>1.399286</td>\n",
              "    </tr>\n",
              "    <tr>\n",
              "      <th>2</th>\n",
              "      <td>2005-01-05</td>\n",
              "      <td>1.151071</td>\n",
              "      <td>1.165179</td>\n",
              "      <td>1.143750</td>\n",
              "      <td>1.151786</td>\n",
              "      <td>0.990424</td>\n",
              "      <td>680433600</td>\n",
              "      <td>NaN</td>\n",
              "      <td>NaN</td>\n",
              "      <td>NaN</td>\n",
              "      <td>NaN</td>\n",
              "      <td>NaN</td>\n",
              "      <td>NaN</td>\n",
              "      <td>NaN</td>\n",
              "      <td>NaN</td>\n",
              "      <td>NaN</td>\n",
              "      <td>0.375006</td>\n",
              "      <td>NaN</td>\n",
              "      <td>NaN</td>\n",
              "      <td>NaN</td>\n",
              "      <td>NaN</td>\n",
              "      <td>NaN</td>\n",
              "      <td>NaN</td>\n",
              "      <td>NaN</td>\n",
              "      <td>NaN</td>\n",
              "      <td>NaN</td>\n",
              "      <td>NaN</td>\n",
              "      <td>NaN</td>\n",
              "      <td>NaN</td>\n",
              "      <td>NaN</td>\n",
              "      <td>NaN</td>\n",
              "      <td>NaN</td>\n",
              "      <td>-0.298393</td>\n",
              "      <td>1.450179</td>\n",
              "    </tr>\n",
              "    <tr>\n",
              "      <th>3</th>\n",
              "      <td>2005-01-06</td>\n",
              "      <td>1.154821</td>\n",
              "      <td>1.159107</td>\n",
              "      <td>1.130893</td>\n",
              "      <td>1.152679</td>\n",
              "      <td>0.991192</td>\n",
              "      <td>705555200</td>\n",
              "      <td>NaN</td>\n",
              "      <td>NaN</td>\n",
              "      <td>NaN</td>\n",
              "      <td>NaN</td>\n",
              "      <td>NaN</td>\n",
              "      <td>NaN</td>\n",
              "      <td>NaN</td>\n",
              "      <td>NaN</td>\n",
              "      <td>NaN</td>\n",
              "      <td>0.772170</td>\n",
              "      <td>NaN</td>\n",
              "      <td>NaN</td>\n",
              "      <td>NaN</td>\n",
              "      <td>NaN</td>\n",
              "      <td>NaN</td>\n",
              "      <td>NaN</td>\n",
              "      <td>NaN</td>\n",
              "      <td>NaN</td>\n",
              "      <td>NaN</td>\n",
              "      <td>NaN</td>\n",
              "      <td>NaN</td>\n",
              "      <td>NaN</td>\n",
              "      <td>NaN</td>\n",
              "      <td>NaN</td>\n",
              "      <td>NaN</td>\n",
              "      <td>-0.358571</td>\n",
              "      <td>1.511250</td>\n",
              "    </tr>\n",
              "    <tr>\n",
              "      <th>4</th>\n",
              "      <td>2005-01-07</td>\n",
              "      <td>1.160714</td>\n",
              "      <td>1.243393</td>\n",
              "      <td>1.156250</td>\n",
              "      <td>1.236607</td>\n",
              "      <td>1.063362</td>\n",
              "      <td>2227450400</td>\n",
              "      <td>NaN</td>\n",
              "      <td>NaN</td>\n",
              "      <td>NaN</td>\n",
              "      <td>NaN</td>\n",
              "      <td>NaN</td>\n",
              "      <td>NaN</td>\n",
              "      <td>NaN</td>\n",
              "      <td>NaN</td>\n",
              "      <td>NaN</td>\n",
              "      <td>0.922128</td>\n",
              "      <td>0.680571</td>\n",
              "      <td>NaN</td>\n",
              "      <td>NaN</td>\n",
              "      <td>NaN</td>\n",
              "      <td>NaN</td>\n",
              "      <td>NaN</td>\n",
              "      <td>NaN</td>\n",
              "      <td>NaN</td>\n",
              "      <td>NaN</td>\n",
              "      <td>NaN</td>\n",
              "      <td>NaN</td>\n",
              "      <td>NaN</td>\n",
              "      <td>NaN</td>\n",
              "      <td>NaN</td>\n",
              "      <td>NaN</td>\n",
              "      <td>-0.342143</td>\n",
              "      <td>1.578750</td>\n",
              "    </tr>\n",
              "    <tr>\n",
              "      <th>...</th>\n",
              "      <td>...</td>\n",
              "      <td>...</td>\n",
              "      <td>...</td>\n",
              "      <td>...</td>\n",
              "      <td>...</td>\n",
              "      <td>...</td>\n",
              "      <td>...</td>\n",
              "      <td>...</td>\n",
              "      <td>...</td>\n",
              "      <td>...</td>\n",
              "      <td>...</td>\n",
              "      <td>...</td>\n",
              "      <td>...</td>\n",
              "      <td>...</td>\n",
              "      <td>...</td>\n",
              "      <td>...</td>\n",
              "      <td>...</td>\n",
              "      <td>...</td>\n",
              "      <td>...</td>\n",
              "      <td>...</td>\n",
              "      <td>...</td>\n",
              "      <td>...</td>\n",
              "      <td>...</td>\n",
              "      <td>...</td>\n",
              "      <td>...</td>\n",
              "      <td>...</td>\n",
              "      <td>...</td>\n",
              "      <td>...</td>\n",
              "      <td>...</td>\n",
              "      <td>...</td>\n",
              "      <td>...</td>\n",
              "      <td>...</td>\n",
              "      <td>...</td>\n",
              "      <td>...</td>\n",
              "    </tr>\n",
              "    <tr>\n",
              "      <th>4150</th>\n",
              "      <td>2021-06-29</td>\n",
              "      <td>134.800003</td>\n",
              "      <td>136.490005</td>\n",
              "      <td>134.350006</td>\n",
              "      <td>136.330002</td>\n",
              "      <td>136.330002</td>\n",
              "      <td>64556100</td>\n",
              "      <td>-2.067162</td>\n",
              "      <td>-1.378673</td>\n",
              "      <td>-0.688488</td>\n",
              "      <td>0.114365</td>\n",
              "      <td>1.032443</td>\n",
              "      <td>0.106265</td>\n",
              "      <td>1.102110</td>\n",
              "      <td>0.115037</td>\n",
              "      <td>0.982124</td>\n",
              "      <td>0.925232</td>\n",
              "      <td>0.671473</td>\n",
              "      <td>0.625031</td>\n",
              "      <td>0.597210</td>\n",
              "      <td>2.089040</td>\n",
              "      <td>2.350321</td>\n",
              "      <td>1.798331</td>\n",
              "      <td>0.091950</td>\n",
              "      <td>0.066328</td>\n",
              "      <td>0.024191</td>\n",
              "      <td>0.019153</td>\n",
              "      <td>-0.530722</td>\n",
              "      <td>-0.319117</td>\n",
              "      <td>-1.173903</td>\n",
              "      <td>-1.123616</td>\n",
              "      <td>-4.993284</td>\n",
              "      <td>NaN</td>\n",
              "      <td>NaN</td>\n",
              "    </tr>\n",
              "    <tr>\n",
              "      <th>4151</th>\n",
              "      <td>2021-06-30</td>\n",
              "      <td>136.169998</td>\n",
              "      <td>137.410004</td>\n",
              "      <td>135.869995</td>\n",
              "      <td>136.960007</td>\n",
              "      <td>136.960007</td>\n",
              "      <td>63261400</td>\n",
              "      <td>-2.267165</td>\n",
              "      <td>-1.556372</td>\n",
              "      <td>-0.710793</td>\n",
              "      <td>0.121512</td>\n",
              "      <td>1.014005</td>\n",
              "      <td>0.114626</td>\n",
              "      <td>1.084537</td>\n",
              "      <td>0.118723</td>\n",
              "      <td>1.002914</td>\n",
              "      <td>0.707796</td>\n",
              "      <td>0.683581</td>\n",
              "      <td>0.641584</td>\n",
              "      <td>0.611955</td>\n",
              "      <td>2.112814</td>\n",
              "      <td>2.399617</td>\n",
              "      <td>2.003104</td>\n",
              "      <td>0.098404</td>\n",
              "      <td>0.069165</td>\n",
              "      <td>0.025918</td>\n",
              "      <td>-0.316920</td>\n",
              "      <td>-0.246896</td>\n",
              "      <td>-0.081132</td>\n",
              "      <td>-3.092762</td>\n",
              "      <td>-2.968317</td>\n",
              "      <td>-2.968317</td>\n",
              "      <td>NaN</td>\n",
              "      <td>NaN</td>\n",
              "    </tr>\n",
              "    <tr>\n",
              "      <th>4152</th>\n",
              "      <td>2021-07-01</td>\n",
              "      <td>136.600006</td>\n",
              "      <td>137.330002</td>\n",
              "      <td>135.759995</td>\n",
              "      <td>137.270004</td>\n",
              "      <td>137.270004</td>\n",
              "      <td>52485800</td>\n",
              "      <td>-2.422755</td>\n",
              "      <td>-1.729648</td>\n",
              "      <td>-0.693107</td>\n",
              "      <td>0.127337</td>\n",
              "      <td>0.982263</td>\n",
              "      <td>0.122509</td>\n",
              "      <td>1.051076</td>\n",
              "      <td>0.122383</td>\n",
              "      <td>1.002416</td>\n",
              "      <td>0.961785</td>\n",
              "      <td>0.776316</td>\n",
              "      <td>0.705624</td>\n",
              "      <td>0.658599</td>\n",
              "      <td>1.927099</td>\n",
              "      <td>2.200186</td>\n",
              "      <td>1.932426</td>\n",
              "      <td>0.078234</td>\n",
              "      <td>0.058039</td>\n",
              "      <td>0.040397</td>\n",
              "      <td>-0.317099</td>\n",
              "      <td>-0.328210</td>\n",
              "      <td>-0.379355</td>\n",
              "      <td>-0.980392</td>\n",
              "      <td>-0.923483</td>\n",
              "      <td>-0.923483</td>\n",
              "      <td>NaN</td>\n",
              "      <td>NaN</td>\n",
              "    </tr>\n",
              "    <tr>\n",
              "      <th>4153</th>\n",
              "      <td>2021-07-02</td>\n",
              "      <td>137.899994</td>\n",
              "      <td>140.000000</td>\n",
              "      <td>137.750000</td>\n",
              "      <td>139.960007</td>\n",
              "      <td>139.960007</td>\n",
              "      <td>78852600</td>\n",
              "      <td>-2.731634</td>\n",
              "      <td>-1.930045</td>\n",
              "      <td>-0.801588</td>\n",
              "      <td>0.139663</td>\n",
              "      <td>1.063447</td>\n",
              "      <td>0.134340</td>\n",
              "      <td>1.142197</td>\n",
              "      <td>0.130335</td>\n",
              "      <td>1.121075</td>\n",
              "      <td>0.982225</td>\n",
              "      <td>0.844952</td>\n",
              "      <td>0.760944</td>\n",
              "      <td>0.701749</td>\n",
              "      <td>2.234213</td>\n",
              "      <td>2.536435</td>\n",
              "      <td>2.393251</td>\n",
              "      <td>0.115842</td>\n",
              "      <td>0.074879</td>\n",
              "      <td>0.041989</td>\n",
              "      <td>-0.005584</td>\n",
              "      <td>-0.001528</td>\n",
              "      <td>0.002480</td>\n",
              "      <td>-0.237066</td>\n",
              "      <td>-0.225313</td>\n",
              "      <td>-0.225313</td>\n",
              "      <td>NaN</td>\n",
              "      <td>NaN</td>\n",
              "    </tr>\n",
              "    <tr>\n",
              "      <th>4154</th>\n",
              "      <td>2021-07-06</td>\n",
              "      <td>140.070007</td>\n",
              "      <td>143.149994</td>\n",
              "      <td>140.070007</td>\n",
              "      <td>142.020004</td>\n",
              "      <td>142.020004</td>\n",
              "      <td>108181800</td>\n",
              "      <td>-3.106833</td>\n",
              "      <td>-2.165403</td>\n",
              "      <td>-0.941430</td>\n",
              "      <td>0.152737</td>\n",
              "      <td>1.088752</td>\n",
              "      <td>0.148673</td>\n",
              "      <td>1.170874</td>\n",
              "      <td>0.139730</td>\n",
              "      <td>1.183852</td>\n",
              "      <td>0.633119</td>\n",
              "      <td>0.774341</td>\n",
              "      <td>0.735379</td>\n",
              "      <td>0.692599</td>\n",
              "      <td>2.426697</td>\n",
              "      <td>2.756109</td>\n",
              "      <td>2.757563</td>\n",
              "      <td>0.117388</td>\n",
              "      <td>0.119590</td>\n",
              "      <td>0.054186</td>\n",
              "      <td>0.714643</td>\n",
              "      <td>0.228345</td>\n",
              "      <td>0.616944</td>\n",
              "      <td>-5.644307</td>\n",
              "      <td>-5.406652</td>\n",
              "      <td>-5.406652</td>\n",
              "      <td>NaN</td>\n",
              "      <td>NaN</td>\n",
              "    </tr>\n",
              "  </tbody>\n",
              "</table>\n",
              "<p>4155 rows × 34 columns</p>\n",
              "</div>"
            ],
            "text/plain": [
              "            Date        Open        High  ...  William%R_50  dClose_t+26  Close_t+26\n",
              "0     2005-01-03    1.156786    1.162679  ...           NaN    -0.275892    1.406071\n",
              "1     2005-01-04    1.139107    1.169107  ...           NaN    -0.257500    1.399286\n",
              "2     2005-01-05    1.151071    1.165179  ...           NaN    -0.298393    1.450179\n",
              "3     2005-01-06    1.154821    1.159107  ...           NaN    -0.358571    1.511250\n",
              "4     2005-01-07    1.160714    1.243393  ...           NaN    -0.342143    1.578750\n",
              "...          ...         ...         ...  ...           ...          ...         ...\n",
              "4150  2021-06-29  134.800003  136.490005  ...     -4.993284          NaN         NaN\n",
              "4151  2021-06-30  136.169998  137.410004  ...     -2.968317          NaN         NaN\n",
              "4152  2021-07-01  136.600006  137.330002  ...     -0.923483          NaN         NaN\n",
              "4153  2021-07-02  137.899994  140.000000  ...     -0.225313          NaN         NaN\n",
              "4154  2021-07-06  140.070007  143.149994  ...     -5.406652          NaN         NaN\n",
              "\n",
              "[4155 rows x 34 columns]"
            ]
          },
          "metadata": {
            "tags": []
          },
          "execution_count": 30
        }
      ]
    },
    {
      "cell_type": "code",
      "metadata": {
        "id": "vzpy41jO2DCg",
        "colab": {
          "base_uri": "https://localhost:8080/"
        },
        "outputId": "cec7c72c-65a8-43bc-abf9-01f20be03a19"
      },
      "source": [
        "dataset1['Close_t+26'].shape"
      ],
      "execution_count": null,
      "outputs": [
        {
          "output_type": "execute_result",
          "data": {
            "text/plain": [
              "(4155,)"
            ]
          },
          "metadata": {
            "tags": []
          },
          "execution_count": 31
        }
      ]
    },
    {
      "cell_type": "code",
      "metadata": {
        "id": "BftzpL8DxN_o",
        "colab": {
          "base_uri": "https://localhost:8080/",
          "height": 138
        },
        "outputId": "88771127-0962-4d89-cb22-016672209207"
      },
      "source": [
        "#@title\n",
        "# Perform a split\n",
        "m, n = dataset1.shape\n",
        "rsplit = 0.8\n",
        " \n",
        "# split into train and test sets\n",
        "train_size = int(rsplit * m)\n",
        "test_size = m - train_size\n",
        " \n",
        "# Plot the data closing\n",
        "fig = plt.figure(figsize=(15,3))\n",
        "plt.plot(dataset1['Close'].values)\n",
        "plt.title('Closing Price')\n",
        "plt.grid()\n",
        "fig.tight_layout()\n",
        "plt.savefig('price_{}.pdf'.format(TICKER), format='pdf')\n",
        "plt.show()"
      ],
      "execution_count": null,
      "outputs": [
        {
          "output_type": "display_data",
          "data": {
            "image/png": "[encoded data removed]",
            "text/plain": [
              "<Figure size 1080x216 with 1 Axes>"
            ]
          },
          "metadata": {
            "tags": [],
            "needs_background": "light"
          }
        }
      ]
    },
    {
      "cell_type": "code",
      "metadata": {
        "id": "l_u5v01r7t97"
      },
      "source": [],
      "execution_count": null,
      "outputs": []
    },
    {
      "cell_type": "code",
      "metadata": {
        "id": "-AoWfn2Q18-Q",
        "colab": {
          "base_uri": "https://localhost:8080/"
        },
        "outputId": "78595e40-c4e2-42ac-c27b-9628d517af1f"
      },
      "source": [
        "# create a new datafram with close price only\n",
        "data = dataset1.filter(['Close_t+26'])\n",
        "#convert the data dataframe to numpy array\n",
        "data1= data.values\n",
        "#get the number of rows to train the model \n",
        "training_data_len =math.ceil(len(data1) * .8)\n",
        "\n",
        "training_data_len\n"
      ],
      "execution_count": null,
      "outputs": [
        {
          "output_type": "execute_result",
          "data": {
            "text/plain": [
              "3324"
            ]
          },
          "metadata": {
            "tags": []
          },
          "execution_count": 33
        }
      ]
    },
    {
      "cell_type": "code",
      "metadata": {
        "id": "nZF-feGW6b9R"
      },
      "source": [],
      "execution_count": null,
      "outputs": []
    },
    {
      "cell_type": "code",
      "metadata": {
        "id": "8kEHUyer4b25",
        "colab": {
          "base_uri": "https://localhost:8080/"
        },
        "outputId": "759f4963-450b-4d7f-8848-64fadd8ae317"
      },
      "source": [
        "data1.ndim"
      ],
      "execution_count": null,
      "outputs": [
        {
          "output_type": "execute_result",
          "data": {
            "text/plain": [
              "2"
            ]
          },
          "metadata": {
            "tags": []
          },
          "execution_count": 34
        }
      ]
    },
    {
      "cell_type": "code",
      "metadata": {
        "id": "mPQysJfCBlmt",
        "colab": {
          "base_uri": "https://localhost:8080/"
        },
        "outputId": "7a2020c3-d432-4e8c-ae20-2357379b9f6e"
      },
      "source": [
        " \n",
        "# Drop rows with future predictions NaN\n",
        "dataset1 = dataset1[dataset1['Close_t+26'].notnull()] #<--- kills 04-04-2018 cannot be used.\n",
        " \n",
        "# Replace all NaNs in predictors with a sentinel\n",
        "# With the exception of the Close price, impute by last value\n",
        "dataset1['Close_t+26'] = dataset1['Close_t+26'].fillna(dataset1['Close_t+26'].iloc[-26 - 1])\n",
        "dataset1['dClose_t+26'] = dataset1['dClose_t+26'].fillna(dataset1['dClose_t+26'].iloc[-26 - 1])\n",
        " \n",
        "sentinel = -0.123456\n",
        "dataset1.fillna(value=sentinel, inplace=True)\n",
        " \n",
        "train, test = dataset1.iloc[0:train_size,:], dataset1.iloc[train_size:m,:]\n",
        " \n",
        "# Make data look more stationary\n",
        "scaler_y = MinMaxScaler(feature_range=(0,1))\n",
        "scaled_data = scaler_y.fit_transform(data1)\n",
        "\n",
        "#data1 = np.sqrt(data1)\n",
        "\n",
        "X_train = train.drop(['Close_t+26','Date'], axis=1)\n",
        "X_test = test.drop(['Close_t+26','Date'], axis=1)\n",
        "y_train = train['Close_t+26']\n",
        "y_test = test['Close_t+26']\n",
        "\n",
        "# normalize the dataset\n",
        "scaler = MinMaxScaler(feature_range=(0, 1))\n",
        "X_train_sc = scaler.fit_transform(X_train)\n",
        "X_test_sc = scaler.transform(X_test)\n",
        " \n",
        "X_train_sc = X_train_sc.astype('float32')"
      ],
      "execution_count": null,
      "outputs": [
        {
          "output_type": "stream",
          "text": [
            "/usr/local/lib/python3.7/dist-packages/ipykernel_launcher.py:7: SettingWithCopyWarning: \n",
            "A value is trying to be set on a copy of a slice from a DataFrame.\n",
            "Try using .loc[row_indexer,col_indexer] = value instead\n",
            "\n",
            "See the caveats in the documentation: https://pandas.pydata.org/pandas-docs/stable/user_guide/indexing.html#returning-a-view-versus-a-copy\n",
            "  import sys\n",
            "/usr/local/lib/python3.7/dist-packages/ipykernel_launcher.py:8: SettingWithCopyWarning: \n",
            "A value is trying to be set on a copy of a slice from a DataFrame.\n",
            "Try using .loc[row_indexer,col_indexer] = value instead\n",
            "\n",
            "See the caveats in the documentation: https://pandas.pydata.org/pandas-docs/stable/user_guide/indexing.html#returning-a-view-versus-a-copy\n",
            "  \n",
            "/usr/local/lib/python3.7/dist-packages/pandas/core/frame.py:4327: SettingWithCopyWarning: \n",
            "A value is trying to be set on a copy of a slice from a DataFrame\n",
            "\n",
            "See the caveats in the documentation: https://pandas.pydata.org/pandas-docs/stable/user_guide/indexing.html#returning-a-view-versus-a-copy\n",
            "  downcast=downcast,\n"
          ],
          "name": "stderr"
        }
      ]
    },
    {
      "cell_type": "code",
      "metadata": {
        "id": "TtIb_fSEFUdz",
        "colab": {
          "base_uri": "https://localhost:8080/"
        },
        "outputId": "25309b8a-e1ec-4789-bb93-bcd57172e9a3"
      },
      "source": [
        "dataset1.isnull().sum()"
      ],
      "execution_count": null,
      "outputs": [
        {
          "output_type": "execute_result",
          "data": {
            "text/plain": [
              "Date              0\n",
              "Open              0\n",
              "High              0\n",
              "Low               0\n",
              "Close             0\n",
              "Adj Close         0\n",
              "Volume            0\n",
              "MACD_26_12        0\n",
              "MACDsign_26_12    0\n",
              "MACDdiff_26_12    0\n",
              "BollingerB_30     0\n",
              "Bollinger%b_30    0\n",
              "BollingerB_40     0\n",
              "Bollinger%b_40    0\n",
              "BollingerB_50     0\n",
              "Bollinger%b_50    0\n",
              "SO%k              0\n",
              "SO%d_5            0\n",
              "SO%d_9            0\n",
              "SO%d_14           0\n",
              "CCI_30            0\n",
              "CCI_40            0\n",
              "CCI_50            0\n",
              "ROPC_30           0\n",
              "ROPC_40           0\n",
              "ROPC_50           0\n",
              "ROVC_30           0\n",
              "ROVC_40           0\n",
              "ROVC_50           0\n",
              "William%R_30      0\n",
              "William%R_40      0\n",
              "William%R_50      0\n",
              "dClose_t+26       0\n",
              "Close_t+26        0\n",
              "dtype: int64"
            ]
          },
          "metadata": {
            "tags": []
          },
          "execution_count": 36
        }
      ]
    },
    {
      "cell_type": "code",
      "metadata": {
        "id": "TFS8XUzoFV4L"
      },
      "source": [],
      "execution_count": null,
      "outputs": []
    },
    {
      "cell_type": "code",
      "metadata": {
        "id": "cSjX-S9gEy3w",
        "colab": {
          "base_uri": "https://localhost:8080/"
        },
        "outputId": "e8936129-676c-4a0e-a174-dcac001476ef"
      },
      "source": [
        "y_train.shape"
      ],
      "execution_count": null,
      "outputs": [
        {
          "output_type": "execute_result",
          "data": {
            "text/plain": [
              "(3324,)"
            ]
          },
          "metadata": {
            "tags": []
          },
          "execution_count": 38
        }
      ]
    },
    {
      "cell_type": "code",
      "metadata": {
        "id": "FbDec7v8M3LC",
        "colab": {
          "base_uri": "https://localhost:8080/"
        },
        "outputId": "0fe45911-74ba-4f5b-b6c3-d6eb4d3fbbcf"
      },
      "source": [
        "type(test['Close'])"
      ],
      "execution_count": null,
      "outputs": [
        {
          "output_type": "execute_result",
          "data": {
            "text/plain": [
              "pandas.core.series.Series"
            ]
          },
          "metadata": {
            "tags": []
          },
          "execution_count": 39
        }
      ]
    },
    {
      "cell_type": "code",
      "metadata": {
        "id": "poseFHrMBrCE",
        "colab": {
          "base_uri": "https://localhost:8080/"
        },
        "outputId": "fe6ac8c7-c2c7-43bd-c7b2-07e85895de95"
      },
      "source": [
        "# Generate LSTM\n",
        "# Check this:\n",
        "# https://machinelearningmastery.com/time-series-prediction-lstm-recurrent-neural-networks-python-keras/ (BS)\n",
        "# https://towardsdatascience.com/time-series-analysis-in-python-an-introduction-70d5a5b1d52a\n",
        "# https://towardsdatascience.com/using-lstms-to-forecast-time-series-4ab688386b1f\n",
        "from keras.callbacks import EarlyStopping\n",
        "def rmse(y_true, y_pred):\n",
        "\treturn keras.backend.sqrt(keras.backend.mean(keras.backend.square(y_pred - y_true), axis=-1))\n",
        "\n",
        "def soft_acc(y_true, y_pred):\n",
        "  return keras.backend.mean(keras.backend.equal(keras.backend.round(y_true), keras.backend.round(y_pred)))\n",
        "mX, nX = X_train.shape\n",
        "mY,  = y_train.shape\n",
        "time_steps = 1\n",
        "batch_size = 16\n",
        "\n",
        "# reshape input to be [samples, time steps, features]\n",
        "X_train_sc = np.reshape(X_train_sc, (mX, time_steps, nX))\n",
        "X_test_sc = np.reshape(X_test_sc, (X_test_sc.shape[0], time_steps, nX))\n",
        "\n",
        "# reshape output too to be one feature.\n",
        "y_train = np.reshape(y_train, (mY))\n",
        "y_test = np.reshape(y_test, (-1))\n",
        "\n",
        "# Build LSTM\n",
        "# Check if model exists\n",
        "try:\n",
        "    json_file = open('model_{}.json'.format(TICKER), 'r')\n",
        "    loaded_model_json = json_file.read()\n",
        "    json_file.close()\n",
        "    model = model_from_json(loaded_model_json)\n",
        "    model.load_weights('model_{}.h5'.format(TICKER))\n",
        "\n",
        "except FileNotFoundError:\n",
        "    \n",
        "    model=Sequential()\n",
        "    model.add(LSTM(return_sequences=True,input_shape=(time_steps, nX),units=nX, activation='relu'))\n",
        "    model.add(Dense(25))\n",
        "    model.add(Dropout(.2))\n",
        "\n",
        "        \n",
        "    model.add(Dense(1)) # no matter what, do not change this.  This is since y is a vector. \n",
        "    model.add(Activation('relu'))\n",
        "\n",
        "\n",
        "      \n",
        "    model.compile(loss='mean_squared_error', optimizer='adam', metrics=[rmse,soft_acc])\n",
        "    model.summary()\n",
        "    E_S_M = EarlyStopping(patience=2)\n",
        "    callback = tf.keras.callbacks.EarlyStopping(monitor='loss', patience=3)\n",
        "\n",
        "\n",
        "    \n",
        "    history = model.fit(X_train_sc, y_train, epochs=100, batch_size=batch_size, verbose=2, callbacks=[callback])\n",
        "   \n",
        "    model_json = model.to_json()\n",
        "    with open('model_{}.json'.format(TICKER), 'w') as json_file:\n",
        "        json_file.write(model_json)\n",
        "    model.save_weights(\"model_{}.h5\".format(TICKER))"
      ],
      "execution_count": null,
      "outputs": [
        {
          "output_type": "stream",
          "text": [
            "Model: \"sequential_11\"\n",
            "_________________________________________________________________\n",
            "Layer (type)                 Output Shape              Param #   \n",
            "=================================================================\n",
            "lstm_11 (LSTM)               (None, 1, 32)             8320      \n",
            "_________________________________________________________________\n",
            "dense_22 (Dense)             (None, 1, 25)             825       \n",
            "_________________________________________________________________\n",
            "dropout_11 (Dropout)         (None, 1, 25)             0         \n",
            "_________________________________________________________________\n",
            "dense_23 (Dense)             (None, 1, 1)              26        \n",
            "_________________________________________________________________\n",
            "activation_11 (Activation)   (None, 1, 1)              0         \n",
            "=================================================================\n",
            "Total params: 9,171\n",
            "Trainable params: 9,171\n",
            "Non-trainable params: 0\n",
            "_________________________________________________________________\n",
            "Epoch 1/100\n",
            "208/208 - 3s - loss: 184.7763 - rmse: 10.3604 - soft_acc: 0.0297\n",
            "Epoch 2/100\n",
            "208/208 - 0s - loss: 11.2751 - rmse: 2.3387 - soft_acc: 0.1740\n",
            "Epoch 3/100\n",
            "208/208 - 0s - loss: 6.6711 - rmse: 1.8105 - soft_acc: 0.2198\n",
            "Epoch 4/100\n",
            "208/208 - 0s - loss: 5.2323 - rmse: 1.5800 - soft_acc: 0.2501\n",
            "Epoch 5/100\n",
            "208/208 - 0s - loss: 4.9163 - rmse: 1.5351 - soft_acc: 0.2609\n",
            "Epoch 6/100\n",
            "208/208 - 0s - loss: 4.6513 - rmse: 1.4845 - soft_acc: 0.2619\n",
            "Epoch 7/100\n",
            "208/208 - 0s - loss: 4.7253 - rmse: 1.4995 - soft_acc: 0.2554\n",
            "Epoch 8/100\n",
            "208/208 - 0s - loss: 4.4120 - rmse: 1.4414 - soft_acc: 0.2690\n",
            "Epoch 9/100\n",
            "208/208 - 0s - loss: 4.7895 - rmse: 1.4692 - soft_acc: 0.2792\n",
            "Epoch 10/100\n",
            "208/208 - 0s - loss: 4.4264 - rmse: 1.4231 - soft_acc: 0.3070\n",
            "Epoch 11/100\n",
            "208/208 - 0s - loss: 4.5585 - rmse: 1.4504 - soft_acc: 0.2699\n"
          ],
          "name": "stdout"
        }
      ]
    },
    {
      "cell_type": "code",
      "metadata": {
        "id": "XtNtz_qfClPf"
      },
      "source": [
        "y_test_orig = pd.DataFrame(y_test, columns=['Close_t+26'])#, index=test.index)\n",
        "y_test_orig = scaler_y.inverse_transform(y_test_orig)\n",
        "y_test_orig = pd.DataFrame(y_test_orig, columns=['Close_t+26'], index=test.index)\n",
        "#y_test_orig = y_test_orig ** 2\n",
        "\n",
        "predicted_price = model.predict(X_test_sc, batch_size=batch_size) #** 2\n",
        "#predicted_price = scaler_y.inverse_transform(predicted_price)\n",
        "predicted_price = pd.DataFrame(predicted_price.flatten(), index=test.index)"
      ],
      "execution_count": null,
      "outputs": []
    },
    {
      "cell_type": "code",
      "metadata": {
        "colab": {
          "base_uri": "https://localhost:8080/",
          "height": 420
        },
        "id": "XxDXArly8HIl",
        "outputId": "f7a0672f-faa9-41eb-f040-ad161cc96cc1"
      },
      "source": [
        "predicted_price"
      ],
      "execution_count": null,
      "outputs": [
        {
          "output_type": "execute_result",
          "data": {
            "text/html": [
              "<div>\n",
              "<style scoped>\n",
              "    .dataframe tbody tr th:only-of-type {\n",
              "        vertical-align: middle;\n",
              "    }\n",
              "\n",
              "    .dataframe tbody tr th {\n",
              "        vertical-align: top;\n",
              "    }\n",
              "\n",
              "    .dataframe thead th {\n",
              "        text-align: right;\n",
              "    }\n",
              "</style>\n",
              "<table border=\"1\" class=\"dataframe\">\n",
              "  <thead>\n",
              "    <tr style=\"text-align: right;\">\n",
              "      <th></th>\n",
              "      <th>0</th>\n",
              "    </tr>\n",
              "  </thead>\n",
              "  <tbody>\n",
              "    <tr>\n",
              "      <th>3324</th>\n",
              "      <td>41.858044</td>\n",
              "    </tr>\n",
              "    <tr>\n",
              "      <th>3325</th>\n",
              "      <td>41.793003</td>\n",
              "    </tr>\n",
              "    <tr>\n",
              "      <th>3326</th>\n",
              "      <td>41.551304</td>\n",
              "    </tr>\n",
              "    <tr>\n",
              "      <th>3327</th>\n",
              "      <td>42.143887</td>\n",
              "    </tr>\n",
              "    <tr>\n",
              "      <th>3328</th>\n",
              "      <td>42.737083</td>\n",
              "    </tr>\n",
              "    <tr>\n",
              "      <th>...</th>\n",
              "      <td>...</td>\n",
              "    </tr>\n",
              "    <tr>\n",
              "      <th>4124</th>\n",
              "      <td>116.511993</td>\n",
              "    </tr>\n",
              "    <tr>\n",
              "      <th>4125</th>\n",
              "      <td>117.316406</td>\n",
              "    </tr>\n",
              "    <tr>\n",
              "      <th>4126</th>\n",
              "      <td>116.322258</td>\n",
              "    </tr>\n",
              "    <tr>\n",
              "      <th>4127</th>\n",
              "      <td>116.438873</td>\n",
              "    </tr>\n",
              "    <tr>\n",
              "      <th>4128</th>\n",
              "      <td>115.677933</td>\n",
              "    </tr>\n",
              "  </tbody>\n",
              "</table>\n",
              "<p>805 rows × 1 columns</p>\n",
              "</div>"
            ],
            "text/plain": [
              "               0\n",
              "3324   41.858044\n",
              "3325   41.793003\n",
              "3326   41.551304\n",
              "3327   42.143887\n",
              "3328   42.737083\n",
              "...          ...\n",
              "4124  116.511993\n",
              "4125  117.316406\n",
              "4126  116.322258\n",
              "4127  116.438873\n",
              "4128  115.677933\n",
              "\n",
              "[805 rows x 1 columns]"
            ]
          },
          "metadata": {
            "tags": []
          },
          "execution_count": 83
        }
      ]
    },
    {
      "cell_type": "code",
      "metadata": {
        "id": "VTsukTgQgKeR"
      },
      "source": [],
      "execution_count": null,
      "outputs": []
    },
    {
      "cell_type": "code",
      "metadata": {
        "id": "cLExi_ujon71",
        "colab": {
          "base_uri": "https://localhost:8080/",
          "height": 313
        },
        "outputId": "f1b26cb0-dbeb-40e8-99e8-0c697d2ced4b"
      },
      "source": [
        "# Objective: green line to be 100% on the blue one after shift.\n",
        "\n",
        "fig = plt.figure(figsize=(16,6))\n",
        "plot_actual, = plt.plot(pd.DataFrame(test['Close'].values, index=y_test.index+-26), linewidth=2.75, label='True test data')\n",
        "#plot_test, = plt.plot(y_test, label='True data') \n",
        "plot_predicted, = plt.plot(predicted_price ,label='Predicted price') \n",
        "plt.legend([plot_actual, plot_predicted])\n",
        "plt.ylabel('Price in USD')\n",
        "plt.xlabel('Data')\n",
        "plt.title('Predicted Closing Price for apple stock')\n",
        "fig.tight_layout()\n",
        "plt.savefig('prediction_{}.pdf'.format(TICKER), format='pdf')\n",
        "plt.show()"
      ],
      "execution_count": null,
      "outputs": [
        {
          "output_type": "display_data",
          "data": {
            "image/png": "[encoded data removed]",
            "text/plain": [
              "<Figure size 1152x432 with 1 Axes>"
            ]
          },
          "metadata": {
            "tags": [],
            "needs_background": "light"
          }
        }
      ]
    },
    {
      "cell_type": "code",
      "metadata": {
        "id": "Ed33SnFiorak"
      },
      "source": [
        "# This is the function that generates the requirement\n",
        "def generate_return(closing_0, closing_30):\n",
        "    return (closing_30 - closing_0) / closing_0 * 100."
      ],
      "execution_count": null,
      "outputs": []
    },
    {
      "cell_type": "code",
      "metadata": {
        "id": "t7Jn6IuiKoeV",
        "colab": {
          "base_uri": "https://localhost:8080/"
        },
        "outputId": "894298c2-4cde-4a88-95b3-0d3d99603852"
      },
      "source": [
        "############################################################################################\n",
        "\n",
        "# Now compute the return for the next 30 days\n",
        "\n",
        "y_last_date = predicted_price.iloc[-1,:][0] # this is 5/16/2018 since we are predicting Close t + 30\n",
        "y_first_date = test['Close'].iloc[-1] # this is 4/4/2018\n",
        "\n",
        "generated_return = generate_return(y_first_date, y_last_date)\n",
        "\n",
        "# Conclude\n",
        "file = open('return_{}.txt'.format(TICKER),'w') \n",
        "print('For ticker {0}, the forecasted return is {1:3f}%'.format(TICKER, generated_return))\n",
        "file.write('For ticker {0}, the forecasted return is {1:3f}%'.format(TICKER, generated_return))\n",
        "\n",
        "file.close()"
      ],
      "execution_count": null,
      "outputs": [
        {
          "output_type": "stream",
          "text": [
            "For ticker AAPL.NS, the forecasted return is 3.995359%\n"
          ],
          "name": "stdout"
        }
      ]
    },
    {
      "cell_type": "code",
      "metadata": {
        "id": "svI_K3H7KsAb",
        "colab": {
          "base_uri": "https://localhost:8080/",
          "height": 172
        },
        "outputId": "c943778f-c663-4262-856e-bbcf26dd3040"
      },
      "source": [
        "fig = plt.figure(figsize=(15,3))\n",
        "plt.plot(predicted_price.values)\n",
        "plt.title('Closing Price for predicted data')\n",
        "plt.grid()\n",
        "fig.tight_layout()\n",
        "plt.savefig('price_{}.pdf'.format(TICKER), format='pdf')\n",
        "plt.show()"
      ],
      "execution_count": null,
      "outputs": [
        {
          "output_type": "display_data",
          "data": {
            "image/png": "[encoded data removed]",
            "text/plain": [
              "<Figure size 1080x216 with 1 Axes>"
            ]
          },
          "metadata": {
            "tags": [],
            "needs_background": "light"
          }
        }
      ]
    },
    {
      "cell_type": "code",
      "metadata": {
        "id": "JLP6rvRg8tmM",
        "colab": {
          "base_uri": "https://localhost:8080/",
          "height": 172
        },
        "outputId": "b5f8a576-8373-4521-d078-6cbbf0f9318c"
      },
      "source": [
        "# Plot the data closing\n",
        "fig = plt.figure(figsize=(15,3))\n",
        "plt.plot(y_test.values)\n",
        "plt.title('Closing Price')\n",
        "plt.grid()\n",
        "fig.tight_layout()\n",
        "plt.savefig('price_{}.pdf'.format(TICKER), format='pdf')\n",
        "plt.show()"
      ],
      "execution_count": null,
      "outputs": [
        {
          "output_type": "display_data",
          "data": {
            "image/png": "[encoded data removed]",
            "text/plain": [
              "<Figure size 1080x216 with 1 Axes>"
            ]
          },
          "metadata": {
            "tags": [],
            "needs_background": "light"
          }
        }
      ]
    },
    {
      "cell_type": "code",
      "metadata": {
        "id": "DGD4L4-7NGSW",
        "colab": {
          "base_uri": "https://localhost:8080/",
          "height": 226
        },
        "outputId": "fca46daf-553e-426e-e49d-c1b2a54c6fae"
      },
      "source": [
        " # plot metrics\n",
        "plt.plot(history.history[rmse])\n",
        "plt.plot(history.history[soft_acc])\n",
        "plt.show()"
      ],
      "execution_count": null,
      "outputs": [
        {
          "output_type": "error",
          "ename": "KeyError",
          "evalue": "ignored",
          "traceback": [
            "\u001b[0;31m---------------------------------------------------------------------------\u001b[0m",
            "\u001b[0;31mKeyError\u001b[0m                                  Traceback (most recent call last)",
            "\u001b[0;32m<ipython-input-49-e980a513bf4b>\u001b[0m in \u001b[0;36m<module>\u001b[0;34m()\u001b[0m\n\u001b[1;32m      1\u001b[0m \u001b[0;31m# plot metrics\u001b[0m\u001b[0;34m\u001b[0m\u001b[0;34m\u001b[0m\u001b[0;34m\u001b[0m\u001b[0m\n\u001b[0;32m----> 2\u001b[0;31m \u001b[0mplt\u001b[0m\u001b[0;34m.\u001b[0m\u001b[0mplot\u001b[0m\u001b[0;34m(\u001b[0m\u001b[0mhistory\u001b[0m\u001b[0;34m.\u001b[0m\u001b[0mhistory\u001b[0m\u001b[0;34m[\u001b[0m\u001b[0mrmse\u001b[0m\u001b[0;34m]\u001b[0m\u001b[0;34m)\u001b[0m\u001b[0;34m\u001b[0m\u001b[0;34m\u001b[0m\u001b[0m\n\u001b[0m\u001b[1;32m      3\u001b[0m \u001b[0mplt\u001b[0m\u001b[0;34m.\u001b[0m\u001b[0mplot\u001b[0m\u001b[0;34m(\u001b[0m\u001b[0mhistory\u001b[0m\u001b[0;34m.\u001b[0m\u001b[0mhistory\u001b[0m\u001b[0;34m[\u001b[0m\u001b[0msoft_acc\u001b[0m\u001b[0;34m]\u001b[0m\u001b[0;34m)\u001b[0m\u001b[0;34m\u001b[0m\u001b[0;34m\u001b[0m\u001b[0m\n\u001b[1;32m      4\u001b[0m \u001b[0mplt\u001b[0m\u001b[0;34m.\u001b[0m\u001b[0mshow\u001b[0m\u001b[0;34m(\u001b[0m\u001b[0;34m)\u001b[0m\u001b[0;34m\u001b[0m\u001b[0;34m\u001b[0m\u001b[0m\n",
            "\u001b[0;31mKeyError\u001b[0m: <function rmse at 0x7f68a6c0f680>"
          ]
        }
      ]
    },
    {
      "cell_type": "code",
      "metadata": {
        "colab": {
          "base_uri": "https://localhost:8080/",
          "height": 541
        },
        "id": "jHXNvVhDxomS",
        "outputId": "d6cec8ca-1a86-4efc-84a1-507238ec4c0b"
      },
      "source": [
        "plt.figure(figsize = (15,10))\n",
        "\n",
        "plt.plot(history.history['loss'], label='loss')\n",
        "plt.plot(history.history['soft_acc'], label='soft_acc')\n",
        "plt.legend(loc='best')\n",
        "plt.show()\n"
      ],
      "execution_count": null,
      "outputs": [
        {
          "output_type": "display_data",
          "data": {
            "image/png": "[encoded data removed]",
            "text/plain": [
              "<Figure size 1080x720 with 1 Axes>"
            ]
          },
          "metadata": {
            "tags": [],
            "needs_background": "light"
          }
        }
      ]
    },
    {
      "cell_type": "code",
      "metadata": {
        "colab": {
          "base_uri": "https://localhost:8080/",
          "height": 334
        },
        "id": "KFnIdy4Qtyas",
        "outputId": "61eb3701-1dde-4e58-ae04-03b2a82a6325"
      },
      "source": [
        "from keras.wrappers.scikit_learn import KerasClassifire"
      ],
      "execution_count": null,
      "outputs": [
        {
          "output_type": "error",
          "ename": "ImportError",
          "evalue": "ignored",
          "traceback": [
            "\u001b[0;31m---------------------------------------------------------------------------\u001b[0m",
            "\u001b[0;31mImportError\u001b[0m                               Traceback (most recent call last)",
            "\u001b[0;32m<ipython-input-65-aa3bcf19a57e>\u001b[0m in \u001b[0;36m<module>\u001b[0;34m()\u001b[0m\n\u001b[0;32m----> 1\u001b[0;31m \u001b[0;32mfrom\u001b[0m \u001b[0mkeras\u001b[0m\u001b[0;34m.\u001b[0m\u001b[0mwrappers\u001b[0m\u001b[0;34m.\u001b[0m\u001b[0mscikit_learn\u001b[0m \u001b[0;32mimport\u001b[0m \u001b[0mKerasClassifire\u001b[0m\u001b[0;34m\u001b[0m\u001b[0;34m\u001b[0m\u001b[0m\n\u001b[0m",
            "\u001b[0;31mImportError\u001b[0m: cannot import name 'KerasClassifire' from 'keras.wrappers.scikit_learn' (/usr/local/lib/python3.7/dist-packages/keras/wrappers/scikit_learn.py)",
            "",
            "\u001b[0;31m---------------------------------------------------------------------------\u001b[0;32m\nNOTE: If your import is failing due to a missing package, you can\nmanually install dependencies using either !pip or !apt.\n\nTo view examples of installing some common dependencies, click the\n\"Open Examples\" button below.\n\u001b[0;31m---------------------------------------------------------------------------\u001b[0m\n"
          ]
        }
      ]
    },
    {
      "cell_type": "code",
      "metadata": {
        "id": "80nge20Ztme8"
      },
      "source": [
        "def built_classifire():\n",
        "  classfire"
      ],
      "execution_count": null,
      "outputs": []
    },
    {
      "cell_type": "code",
      "metadata": {
        "id": "Npkzv_Db8K9-",
        "colab": {
          "base_uri": "https://localhost:8080/"
        },
        "outputId": "6e640b0b-bd6d-491d-f54b-57ed0f8a7f06"
      },
      "source": [
        "y_test.tail(10)"
      ],
      "execution_count": null,
      "outputs": [
        {
          "output_type": "execute_result",
          "data": {
            "text/plain": [
              "4119    133.979996\n",
              "4120    133.699997\n",
              "4121    133.410004\n",
              "4122    133.110001\n",
              "4123    134.779999\n",
              "4124    136.330002\n",
              "4125    136.960007\n",
              "4126    137.270004\n",
              "4127    139.960007\n",
              "4128    142.020004\n",
              "Name: Close_t+26, dtype: float64"
            ]
          },
          "metadata": {
            "tags": []
          },
          "execution_count": 85
        }
      ]
    },
    {
      "cell_type": "code",
      "metadata": {
        "id": "qy8XEVs19vTR",
        "colab": {
          "base_uri": "https://localhost:8080/",
          "height": 359
        },
        "outputId": "bd04c2e4-b8b5-4f9c-f5f1-94286c85febe"
      },
      "source": [
        "\n",
        "predicted_price.tail(10)"
      ],
      "execution_count": null,
      "outputs": [
        {
          "output_type": "execute_result",
          "data": {
            "text/html": [
              "<div>\n",
              "<style scoped>\n",
              "    .dataframe tbody tr th:only-of-type {\n",
              "        vertical-align: middle;\n",
              "    }\n",
              "\n",
              "    .dataframe tbody tr th {\n",
              "        vertical-align: top;\n",
              "    }\n",
              "\n",
              "    .dataframe thead th {\n",
              "        text-align: right;\n",
              "    }\n",
              "</style>\n",
              "<table border=\"1\" class=\"dataframe\">\n",
              "  <thead>\n",
              "    <tr style=\"text-align: right;\">\n",
              "      <th></th>\n",
              "      <th>0</th>\n",
              "    </tr>\n",
              "  </thead>\n",
              "  <tbody>\n",
              "    <tr>\n",
              "      <th>4119</th>\n",
              "      <td>118.770859</td>\n",
              "    </tr>\n",
              "    <tr>\n",
              "      <th>4120</th>\n",
              "      <td>117.611664</td>\n",
              "    </tr>\n",
              "    <tr>\n",
              "      <th>4121</th>\n",
              "      <td>114.920990</td>\n",
              "    </tr>\n",
              "    <tr>\n",
              "      <th>4122</th>\n",
              "      <td>116.304268</td>\n",
              "    </tr>\n",
              "    <tr>\n",
              "      <th>4123</th>\n",
              "      <td>118.429565</td>\n",
              "    </tr>\n",
              "    <tr>\n",
              "      <th>4124</th>\n",
              "      <td>116.511993</td>\n",
              "    </tr>\n",
              "    <tr>\n",
              "      <th>4125</th>\n",
              "      <td>117.316406</td>\n",
              "    </tr>\n",
              "    <tr>\n",
              "      <th>4126</th>\n",
              "      <td>116.322258</td>\n",
              "    </tr>\n",
              "    <tr>\n",
              "      <th>4127</th>\n",
              "      <td>116.438873</td>\n",
              "    </tr>\n",
              "    <tr>\n",
              "      <th>4128</th>\n",
              "      <td>115.677933</td>\n",
              "    </tr>\n",
              "  </tbody>\n",
              "</table>\n",
              "</div>"
            ],
            "text/plain": [
              "               0\n",
              "4119  118.770859\n",
              "4120  117.611664\n",
              "4121  114.920990\n",
              "4122  116.304268\n",
              "4123  118.429565\n",
              "4124  116.511993\n",
              "4125  117.316406\n",
              "4126  116.322258\n",
              "4127  116.438873\n",
              "4128  115.677933"
            ]
          },
          "metadata": {
            "tags": []
          },
          "execution_count": 86
        }
      ]
    },
    {
      "cell_type": "code",
      "metadata": {
        "id": "yT17Nhu7CKOo"
      },
      "source": [],
      "execution_count": null,
      "outputs": []
    },
    {
      "cell_type": "code",
      "metadata": {
        "id": "3aFyUfXxOxpd"
      },
      "source": [
        "type(predicted_price)"
      ],
      "execution_count": null,
      "outputs": []
    },
    {
      "cell_type": "code",
      "metadata": {
        "id": "lmLbwI2YL1eg"
      },
      "source": [
        "type(predicted_price)"
      ],
      "execution_count": null,
      "outputs": []
    },
    {
      "cell_type": "code",
      "metadata": {
        "id": "IPNYNmdWOo19"
      },
      "source": [
        "y_test= y_test.to_frame()\n",
        "type(a)"
      ],
      "execution_count": null,
      "outputs": []
    },
    {
      "cell_type": "code",
      "metadata": {
        "id": "gsvOrVcmSImt"
      },
      "source": [
        "predicted_price=y_hat.to_numpy()"
      ],
      "execution_count": null,
      "outputs": []
    },
    {
      "cell_type": "code",
      "metadata": {
        "id": "HTfIUhGM9HDa"
      },
      "source": [
        "real_price = X_test['Close'].to_numpy()"
      ],
      "execution_count": null,
      "outputs": []
    },
    {
      "cell_type": "code",
      "metadata": {
        "id": "QVHrElOI9PBK"
      },
      "source": [
        "plt.figure(figsize = (15,10))\n",
        "\n",
        "plt.plot(history.history['rmse'])\n",
        "plt.plot(history.history['soft_acc'])\n",
        "plt.show()"
      ],
      "execution_count": null,
      "outputs": []
    },
    {
      "cell_type": "code",
      "metadata": {
        "id": "5Ea9StRZ4dsn"
      },
      "source": [
        "plt.figure(figsize = (15,10))\n",
        "\n",
        "plt.plot(history.history['loss'], label='loss')"
      ],
      "execution_count": null,
      "outputs": []
    },
    {
      "cell_type": "code",
      "metadata": {
        "id": "YG-I0LOw9QEF"
      },
      "source": [
        "keras.wrappers.scikit_learn import kerasclassifier"
      ],
      "execution_count": null,
      "outputs": []
    },
    {
      "cell_type": "code",
      "metadata": {
        "id": "sg1b0hG59RnS",
        "colab": {
          "base_uri": "https://localhost:8080/",
          "height": 340
        },
        "outputId": "7deaaac3-473a-4141-cde3-b856d9414a6f"
      },
      "source": [
        "matrix = metrics.confusion_matrix(y_test, predicted_price)\n"
      ],
      "execution_count": null,
      "outputs": [
        {
          "output_type": "error",
          "ename": "ValueError",
          "evalue": "ignored",
          "traceback": [
            "\u001b[0;31m---------------------------------------------------------------------------\u001b[0m",
            "\u001b[0;31mValueError\u001b[0m                                Traceback (most recent call last)",
            "\u001b[0;32m<ipython-input-62-37f8b5bed8df>\u001b[0m in \u001b[0;36m<module>\u001b[0;34m()\u001b[0m\n\u001b[0;32m----> 1\u001b[0;31m \u001b[0mmatrix\u001b[0m \u001b[0;34m=\u001b[0m \u001b[0mmetrics\u001b[0m\u001b[0;34m.\u001b[0m\u001b[0mconfusion_matrix\u001b[0m\u001b[0;34m(\u001b[0m\u001b[0my_test\u001b[0m\u001b[0;34m,\u001b[0m \u001b[0mpredicted_price\u001b[0m\u001b[0;34m)\u001b[0m\u001b[0;34m\u001b[0m\u001b[0;34m\u001b[0m\u001b[0m\n\u001b[0m",
            "\u001b[0;32m/usr/local/lib/python3.7/dist-packages/sklearn/metrics/_classification.py\u001b[0m in \u001b[0;36mconfusion_matrix\u001b[0;34m(y_true, y_pred, labels, sample_weight, normalize)\u001b[0m\n\u001b[1;32m    266\u001b[0m \u001b[0;34m\u001b[0m\u001b[0m\n\u001b[1;32m    267\u001b[0m     \"\"\"\n\u001b[0;32m--> 268\u001b[0;31m     \u001b[0my_type\u001b[0m\u001b[0;34m,\u001b[0m \u001b[0my_true\u001b[0m\u001b[0;34m,\u001b[0m \u001b[0my_pred\u001b[0m \u001b[0;34m=\u001b[0m \u001b[0m_check_targets\u001b[0m\u001b[0;34m(\u001b[0m\u001b[0my_true\u001b[0m\u001b[0;34m,\u001b[0m \u001b[0my_pred\u001b[0m\u001b[0;34m)\u001b[0m\u001b[0;34m\u001b[0m\u001b[0;34m\u001b[0m\u001b[0m\n\u001b[0m\u001b[1;32m    269\u001b[0m     \u001b[0;32mif\u001b[0m \u001b[0my_type\u001b[0m \u001b[0;32mnot\u001b[0m \u001b[0;32min\u001b[0m \u001b[0;34m(\u001b[0m\u001b[0;34m\"binary\"\u001b[0m\u001b[0;34m,\u001b[0m \u001b[0;34m\"multiclass\"\u001b[0m\u001b[0;34m)\u001b[0m\u001b[0;34m:\u001b[0m\u001b[0;34m\u001b[0m\u001b[0;34m\u001b[0m\u001b[0m\n\u001b[1;32m    270\u001b[0m         \u001b[0;32mraise\u001b[0m \u001b[0mValueError\u001b[0m\u001b[0;34m(\u001b[0m\u001b[0;34m\"%s is not supported\"\u001b[0m \u001b[0;34m%\u001b[0m \u001b[0my_type\u001b[0m\u001b[0;34m)\u001b[0m\u001b[0;34m\u001b[0m\u001b[0;34m\u001b[0m\u001b[0m\n",
            "\u001b[0;32m/usr/local/lib/python3.7/dist-packages/sklearn/metrics/_classification.py\u001b[0m in \u001b[0;36m_check_targets\u001b[0;34m(y_true, y_pred)\u001b[0m\n\u001b[1;32m     95\u001b[0m     \u001b[0;31m# No metrics support \"multiclass-multioutput\" format\u001b[0m\u001b[0;34m\u001b[0m\u001b[0;34m\u001b[0m\u001b[0;34m\u001b[0m\u001b[0m\n\u001b[1;32m     96\u001b[0m     \u001b[0;32mif\u001b[0m \u001b[0;34m(\u001b[0m\u001b[0my_type\u001b[0m \u001b[0;32mnot\u001b[0m \u001b[0;32min\u001b[0m \u001b[0;34m[\u001b[0m\u001b[0;34m\"binary\"\u001b[0m\u001b[0;34m,\u001b[0m \u001b[0;34m\"multiclass\"\u001b[0m\u001b[0;34m,\u001b[0m \u001b[0;34m\"multilabel-indicator\"\u001b[0m\u001b[0;34m]\u001b[0m\u001b[0;34m)\u001b[0m\u001b[0;34m:\u001b[0m\u001b[0;34m\u001b[0m\u001b[0;34m\u001b[0m\u001b[0m\n\u001b[0;32m---> 97\u001b[0;31m         \u001b[0;32mraise\u001b[0m \u001b[0mValueError\u001b[0m\u001b[0;34m(\u001b[0m\u001b[0;34m\"{0} is not supported\"\u001b[0m\u001b[0;34m.\u001b[0m\u001b[0mformat\u001b[0m\u001b[0;34m(\u001b[0m\u001b[0my_type\u001b[0m\u001b[0;34m)\u001b[0m\u001b[0;34m)\u001b[0m\u001b[0;34m\u001b[0m\u001b[0;34m\u001b[0m\u001b[0m\n\u001b[0m\u001b[1;32m     98\u001b[0m \u001b[0;34m\u001b[0m\u001b[0m\n\u001b[1;32m     99\u001b[0m     \u001b[0;32mif\u001b[0m \u001b[0my_type\u001b[0m \u001b[0;32min\u001b[0m \u001b[0;34m[\u001b[0m\u001b[0;34m\"binary\"\u001b[0m\u001b[0;34m,\u001b[0m \u001b[0;34m\"multiclass\"\u001b[0m\u001b[0;34m]\u001b[0m\u001b[0;34m:\u001b[0m\u001b[0;34m\u001b[0m\u001b[0;34m\u001b[0m\u001b[0m\n",
            "\u001b[0;31mValueError\u001b[0m: continuous is not supported"
          ]
        }
      ]
    },
    {
      "cell_type": "code",
      "metadata": {
        "id": "fym3o82a9kxy"
      },
      "source": [],
      "execution_count": null,
      "outputs": []
    },
    {
      "cell_type": "code",
      "metadata": {
        "id": "OnN8_9az9rAB"
      },
      "source": [],
      "execution_count": null,
      "outputs": []
    },
    {
      "cell_type": "code",
      "metadata": {
        "id": "Ie359IF59tzd"
      },
      "source": [],
      "execution_count": null,
      "outputs": []
    },
    {
      "cell_type": "code",
      "metadata": {
        "id": "LbeQX2WW93LD"
      },
      "source": [],
      "execution_count": null,
      "outputs": []
    },
    {
      "cell_type": "code",
      "metadata": {
        "id": "X7Be1ugH9416"
      },
      "source": [],
      "execution_count": null,
      "outputs": []
    },
    {
      "cell_type": "code",
      "metadata": {
        "id": "DJAxg2Gx-ceI"
      },
      "source": [],
      "execution_count": null,
      "outputs": []
    },
    {
      "cell_type": "code",
      "metadata": {
        "id": "eQRVpYMq--zq"
      },
      "source": [
        "predicted_price = np.reshape(predicted_price,805).ndim"
      ],
      "execution_count": null,
      "outputs": []
    },
    {
      "cell_type": "code",
      "metadata": {
        "id": "ZuqzvTY-IpU2"
      },
      "source": [
        "y_hat.tail(20)"
      ],
      "execution_count": null,
      "outputs": []
    },
    {
      "cell_type": "code",
      "metadata": {
        "id": "yuuWd0BFJTl_"
      },
      "source": [
        "y_test.tail(20)"
      ],
      "execution_count": null,
      "outputs": []
    },
    {
      "cell_type": "code",
      "metadata": {
        "id": "rQH5R0sNJWD0"
      },
      "source": [
        "accuracy_score(y_hat_1,y_test)"
      ],
      "execution_count": null,
      "outputs": []
    },
    {
      "cell_type": "code",
      "metadata": {
        "id": "EeZ6pA2dJAil"
      },
      "source": [
        "clf.score(y_hat_1, y_test)\n"
      ],
      "execution_count": null,
      "outputs": []
    },
    {
      "cell_type": "code",
      "metadata": {
        "id": "Q0evbYiiJI-d"
      },
      "source": [
        " clf.score(x_train,y_train) "
      ],
      "execution_count": null,
      "outputs": []
    },
    {
      "cell_type": "code",
      "metadata": {
        "id": "uGGXqrgXJd0H"
      },
      "source": [
        "apple_training_complete = pd.read_csv('AAPL_2005_2021_7_7AAASSDASDAS.csv') \n",
        "apple_training_processed = apple_training_complete.iloc[:, 1:2].values\n"
      ],
      "execution_count": null,
      "outputs": []
    },
    {
      "cell_type": "code",
      "metadata": {
        "id": "7Mw_A6ZTJazN"
      },
      "source": [
        "from sklearn.preprocessing import MinMaxScaler\n",
        "scaler = MinMaxScaler(feature_range = (0, 1))\n",
        "\n",
        "apple_training_scaled = scaler.fit_transform(apple_training_processed)"
      ],
      "execution_count": null,
      "outputs": []
    },
    {
      "cell_type": "code",
      "metadata": {
        "id": "2P_va2rRT99c"
      },
      "source": [
        "features_set = []\n",
        "labels = []\n",
        "for i in range(60, 1260):\n",
        "    features_set.append(apple_training_scaled[i-60:i, 0])\n",
        "    labels.append(apple_training_scaled[i, 0])"
      ],
      "execution_count": null,
      "outputs": []
    },
    {
      "cell_type": "code",
      "metadata": {
        "id": "sms1Kh3rub61"
      },
      "source": [
        "features_set, labels = np.array(features_set), np.array(labels)\n",
        "features_set = np.reshape(features_set, (features_set.shape[0], features_set.shape[1], 1))\n"
      ],
      "execution_count": null,
      "outputs": []
    },
    {
      "cell_type": "code",
      "metadata": {
        "id": "3vBiefMdudJ0"
      },
      "source": [
        "model = Sequential()\n",
        "model.add(LSTM(units=50, return_sequences=True, input_shape=(features_set.shape[1], 1)))\n",
        "model.add(Dropout(0.2))\n",
        "model.add(LSTM(units=50, return_sequences=True))\n",
        "model.add(Dropout(0.2))\n",
        "\n",
        "model.add(LSTM(units=50, return_sequences=True))\n",
        "model.add(Dropout(0.2))\n",
        "\n",
        "model.add(LSTM(units=50))\n",
        "model.add(Dropout(0.2))\n",
        "model.add(Dense(units = 1))\n",
        "model.compile(optimizer = 'adam', loss = 'mean_squared_error')\n"
      ],
      "execution_count": null,
      "outputs": []
    },
    {
      "cell_type": "code",
      "metadata": {
        "id": "6J3aLTceudgt"
      },
      "source": [
        " "
      ],
      "execution_count": null,
      "outputs": []
    },
    {
      "cell_type": "code",
      "metadata": {
        "id": "cbCIcqmIud2O"
      },
      "source": [],
      "execution_count": null,
      "outputs": []
    },
    {
      "cell_type": "code",
      "metadata": {
        "id": "h709Y15DueGE"
      },
      "source": [],
      "execution_count": null,
      "outputs": []
    },
    {
      "cell_type": "code",
      "metadata": {
        "id": "AK5mnra_u1ot"
      },
      "source": [],
      "execution_count": null,
      "outputs": []
    },
    {
      "cell_type": "code",
      "metadata": {
        "id": "UI6pc9piu2Al"
      },
      "source": [],
      "execution_count": null,
      "outputs": []
    },
    {
      "cell_type": "code",
      "metadata": {
        "id": "I3oQo5rxu2Qo"
      },
      "source": [],
      "execution_count": null,
      "outputs": []
    },
    {
      "cell_type": "code",
      "metadata": {
        "id": "hT_NB30Lu2iU"
      },
      "source": [],
      "execution_count": null,
      "outputs": []
    },
    {
      "cell_type": "code",
      "metadata": {
        "id": "1WSo_apgu2uX"
      },
      "source": [],
      "execution_count": null,
      "outputs": []
    },
    {
      "cell_type": "code",
      "metadata": {
        "id": "yLdPPe_xu25H"
      },
      "source": [],
      "execution_count": null,
      "outputs": []
    },
    {
      "cell_type": "code",
      "metadata": {
        "id": "NxM_EwzF01YA"
      },
      "source": [],
      "execution_count": null,
      "outputs": []
    }
  ]
}